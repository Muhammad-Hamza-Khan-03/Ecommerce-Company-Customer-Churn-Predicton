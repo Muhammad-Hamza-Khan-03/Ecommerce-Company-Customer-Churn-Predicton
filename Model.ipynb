{
 "cells": [
  {
   "cell_type": "code",
   "execution_count": null,
   "metadata": {},
   "outputs": [],
   "source": [
    "#Dataset\n",
    "Ecommerce_data = pd.read_excel(\"E Commerce Dataset.xlsx\",sheet_name=\"E Comm\")\n",
    "Ecommerce_data.head()"
   ]
  },
  {
   "cell_type": "markdown",
   "metadata": {},
   "source": [
    "# Implementing Models"
   ]
  },
  {
   "cell_type": "code",
   "execution_count": null,
   "metadata": {},
   "outputs": [],
   "source": [
    "\n",
    "y = Encoded_data['Churn']\n",
    "X = Encoded_data.drop(['Churn','CustomerID'], axis=1)\n",
    "\n",
    "X_train, X_test, y_train, y_test = train_test_split(X, y, test_size=0.30,\n",
    "                                                    stratify=Encoded_data['Churn'],\n",
    "                                                    random_state=42)\n",
    "\n",
    "scaler = MinMaxScaler()\n",
    "X_train = scaler.fit_transform(X_train)\n",
    "X_test = scaler.transform(X_test)\n",
    "\n",
    "X_train.shape, X_test.shape, y_train.shape, y_test.shape"
   ]
  },
  {
   "cell_type": "code",
   "execution_count": null,
   "metadata": {},
   "outputs": [],
   "source": [
    "Encoded_data = Ecommerce_data.copy()\n",
    "Encoded_data.drop(['CustomerID','OrderAmountHikeFromlastYear','DaySinceLastOrder','CashbackAmount','Churn'],axis=1,inplace=True)\n",
    "\n",
    "label_Encoder = LabelEncoder()\n",
    "Encoded_data = Encoded_data.apply(lambda x: label_Encoder.fit_transform(x))\n",
    "Encoded_data[['OrderAmountHikeFromlastYear','DaySinceLastOrder','CashbackAmount','Churn']] = Ecommerce_data[['OrderAmountHikeFromlastYear','DaySinceLastOrder','CashbackAmount','Churn']]\n",
    "Encoded_data.head()"
   ]
  }
 ],
 "metadata": {
  "language_info": {
   "name": "python"
  }
 },
 "nbformat": 4,
 "nbformat_minor": 2
}
