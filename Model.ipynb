{
 "cells": [
  {
   "cell_type": "code",
   "execution_count": 1,
   "metadata": {},
   "outputs": [
    {
     "name": "stdout",
     "output_type": "stream",
     "text": [
      "Defaulting to user installation because normal site-packages is not writeable"
     ]
    },
    {
     "name": "stderr",
     "output_type": "stream",
     "text": [
      "WARNING: Ignoring invalid distribution -pencv-python (c:\\users\\hamza\\appdata\\roaming\\python\\python39\\site-packages)\n",
      "WARNING: Ignoring invalid distribution -pencv-python (c:\\users\\hamza\\appdata\\roaming\\python\\python39\\site-packages)\n",
      "WARNING: Ignoring invalid distribution -pencv-python (c:\\users\\hamza\\appdata\\roaming\\python\\python39\\site-packages)\n",
      "  WARNING: The script f2py.exe is installed in 'C:\\Users\\Hamza\\AppData\\Roaming\\Python\\Python39\\Scripts' which is not on PATH.\n",
      "  Consider adding this directory to PATH or, if you prefer to suppress this warning, use --no-warn-script-location.\n",
      "  WARNING: Failed to remove contents in a temporary directory 'C:\\Users\\Hamza\\AppData\\Roaming\\Python\\Python39\\site-packages\\~~mpy.libs'.\n",
      "  You can safely remove it manually.\n",
      "  WARNING: Failed to remove contents in a temporary directory 'C:\\Users\\Hamza\\AppData\\Roaming\\Python\\Python39\\site-packages\\~=mpy'.\n",
      "  You can safely remove it manually.\n",
      "ERROR: pip's dependency resolver does not currently take into account all the packages that are installed. This behaviour is the source of the following dependency conflicts.\n",
      "daal4py 2021.5.0 requires daal==2021.4.0, which is not installed.\n",
      "tensorflow-intel 2.16.1 requires numpy<2.0.0,>=1.23.5; python_version <= \"3.11\", but you have numpy 1.22.4 which is incompatible.\n",
      "numba 0.55.1 requires numpy<1.22,>=1.18, but you have numpy 1.22.4 which is incompatible.\n",
      "WARNING: Ignoring invalid distribution -pencv-python (c:\\users\\hamza\\appdata\\roaming\\python\\python39\\site-packages)\n"
     ]
    },
    {
     "name": "stdout",
     "output_type": "stream",
     "text": [
      "\n",
      "Collecting xgboost\n",
      "  Downloading xgboost-2.0.3-py3-none-win_amd64.whl.metadata (2.0 kB)\n",
      "Requirement already satisfied: numpy in c:\\users\\hamza\\appdata\\roaming\\python\\python39\\site-packages (from xgboost) (1.26.4)\n",
      "Requirement already satisfied: scipy in c:\\programdata\\anaconda3\\lib\\site-packages (from xgboost) (1.7.3)\n",
      "Collecting numpy (from xgboost)\n",
      "  Using cached numpy-1.22.4-cp39-cp39-win_amd64.whl.metadata (2.1 kB)\n",
      "Downloading xgboost-2.0.3-py3-none-win_amd64.whl (99.8 MB)\n",
      "   ---------------------------------------- 99.8/99.8 MB 1.7 MB/s eta 0:00:00\n",
      "Using cached numpy-1.22.4-cp39-cp39-win_amd64.whl (14.7 MB)\n",
      "Installing collected packages: numpy, xgboost\n",
      "  Attempting uninstall: numpy\n",
      "    Found existing installation: numpy 1.26.4\n",
      "    Uninstalling numpy-1.26.4:\n",
      "      Successfully uninstalled numpy-1.26.4\n",
      "Successfully installed numpy-1.22.4 xgboost-2.0.3\n"
     ]
    }
   ],
   "source": [
    "!pip install xgboost"
   ]
  },
  {
   "cell_type": "code",
   "execution_count": 36,
   "metadata": {},
   "outputs": [],
   "source": [
    "import pandas as pd\n",
    "from sklearn.preprocessing import LabelEncoder\n",
    "from sklearn.preprocessing import StandardScaler\n",
    "from sklearn.model_selection import train_test_split\n",
    "import pandas as pd\n",
    "import numpy as np\n",
    "import seaborn as sns\n",
    "import matplotlib.pyplot as plt\n",
    "%matplotlib inline\n",
    "from matplotlib import rcParams\n",
    "from sklearn.naive_bayes import GaussianNB\n",
    "from imblearn.combine import SMOTETomek\n",
    "#Pre-Processing\n",
    "from sklearn.impute import SimpleImputer\n",
    "from sklearn.preprocessing import OneHotEncoder, MinMaxScaler, StandardScaler\n",
    "from sklearn.pipeline import Pipeline\n",
    "from sklearn.model_selection import train_test_split\n",
    "from sklearn.compose import ColumnTransformer\n",
    "from sklearn import tree\n",
    "from sklearn.metrics import accuracy_score, precision_score, recall_score, roc_auc_score, f1_score, balanced_accuracy_score\n",
    "from sklearn.metrics import classification_report\n",
    "# from feature_engine.encoding import OneHotEncoder\n",
    "# from feature_engine.encoding import OrdinalEncoder\n",
    "from sklearn.svm import SVC\n",
    "from sklearn.tree import DecisionTreeClassifier\n",
    "#Modeling\n",
    "from sklearn.linear_model import LogisticRegression\n",
    "from sklearn.ensemble import RandomForestClassifier\n",
    "from sklearn.neighbors import KNeighborsClassifier\n",
    "from sklearn.ensemble import AdaBoostClassifier\n",
    "\n",
    "# import catboost as cb\n",
    "# \n",
    "from xgboost import XGBClassifier\n",
    "#Feature Importance\n",
    "# import shap"
   ]
  },
  {
   "cell_type": "code",
   "execution_count": 64,
   "metadata": {},
   "outputs": [
    {
     "data": {
      "text/html": [
       "<div>\n",
       "<style scoped>\n",
       "    .dataframe tbody tr th:only-of-type {\n",
       "        vertical-align: middle;\n",
       "    }\n",
       "\n",
       "    .dataframe tbody tr th {\n",
       "        vertical-align: top;\n",
       "    }\n",
       "\n",
       "    .dataframe thead th {\n",
       "        text-align: right;\n",
       "    }\n",
       "</style>\n",
       "<table border=\"1\" class=\"dataframe\">\n",
       "  <thead>\n",
       "    <tr style=\"text-align: right;\">\n",
       "      <th></th>\n",
       "      <th>PreferredLoginDevice</th>\n",
       "      <th>PreferredPaymentMode</th>\n",
       "      <th>PreferedOrderCat</th>\n",
       "      <th>MaritalStatus</th>\n",
       "      <th>Tenure</th>\n",
       "      <th>WarehouseToHome</th>\n",
       "      <th>HourSpendOnApp</th>\n",
       "      <th>NumberOfDeviceRegistered</th>\n",
       "      <th>SatisfactionScore</th>\n",
       "      <th>NumberOfAddress</th>\n",
       "      <th>OrderAmountHikeFromlastYear</th>\n",
       "      <th>CouponUsed</th>\n",
       "      <th>OrderCount</th>\n",
       "      <th>DaySinceLastOrder</th>\n",
       "      <th>CashbackAmount</th>\n",
       "      <th>Churn</th>\n",
       "    </tr>\n",
       "  </thead>\n",
       "  <tbody>\n",
       "    <tr>\n",
       "      <th>0</th>\n",
       "      <td>1</td>\n",
       "      <td>4</td>\n",
       "      <td>2</td>\n",
       "      <td>2</td>\n",
       "      <td>4.0</td>\n",
       "      <td>6.0</td>\n",
       "      <td>3.0</td>\n",
       "      <td>3</td>\n",
       "      <td>2</td>\n",
       "      <td>9</td>\n",
       "      <td>11.0</td>\n",
       "      <td>1.0</td>\n",
       "      <td>1.0</td>\n",
       "      <td>5.0</td>\n",
       "      <td>159.93</td>\n",
       "      <td>1</td>\n",
       "    </tr>\n",
       "    <tr>\n",
       "      <th>1</th>\n",
       "      <td>2</td>\n",
       "      <td>4</td>\n",
       "      <td>2</td>\n",
       "      <td>2</td>\n",
       "      <td>0.0</td>\n",
       "      <td>15.0</td>\n",
       "      <td>2.0</td>\n",
       "      <td>4</td>\n",
       "      <td>5</td>\n",
       "      <td>8</td>\n",
       "      <td>23.0</td>\n",
       "      <td>0.0</td>\n",
       "      <td>1.0</td>\n",
       "      <td>3.0</td>\n",
       "      <td>134.07</td>\n",
       "      <td>1</td>\n",
       "    </tr>\n",
       "    <tr>\n",
       "      <th>2</th>\n",
       "      <td>0</td>\n",
       "      <td>4</td>\n",
       "      <td>4</td>\n",
       "      <td>2</td>\n",
       "      <td>0.0</td>\n",
       "      <td>22.0</td>\n",
       "      <td>3.0</td>\n",
       "      <td>5</td>\n",
       "      <td>5</td>\n",
       "      <td>2</td>\n",
       "      <td>22.0</td>\n",
       "      <td>4.0</td>\n",
       "      <td>6.0</td>\n",
       "      <td>7.0</td>\n",
       "      <td>139.19</td>\n",
       "      <td>1</td>\n",
       "    </tr>\n",
       "    <tr>\n",
       "      <th>3</th>\n",
       "      <td>1</td>\n",
       "      <td>4</td>\n",
       "      <td>0</td>\n",
       "      <td>2</td>\n",
       "      <td>11.0</td>\n",
       "      <td>6.0</td>\n",
       "      <td>3.0</td>\n",
       "      <td>4</td>\n",
       "      <td>3</td>\n",
       "      <td>10</td>\n",
       "      <td>13.0</td>\n",
       "      <td>0.0</td>\n",
       "      <td>1.0</td>\n",
       "      <td>0.0</td>\n",
       "      <td>153.81</td>\n",
       "      <td>1</td>\n",
       "    </tr>\n",
       "    <tr>\n",
       "      <th>4</th>\n",
       "      <td>2</td>\n",
       "      <td>1</td>\n",
       "      <td>3</td>\n",
       "      <td>2</td>\n",
       "      <td>0.0</td>\n",
       "      <td>11.0</td>\n",
       "      <td>2.0</td>\n",
       "      <td>3</td>\n",
       "      <td>3</td>\n",
       "      <td>2</td>\n",
       "      <td>13.0</td>\n",
       "      <td>2.0</td>\n",
       "      <td>2.0</td>\n",
       "      <td>2.0</td>\n",
       "      <td>134.41</td>\n",
       "      <td>1</td>\n",
       "    </tr>\n",
       "  </tbody>\n",
       "</table>\n",
       "</div>"
      ],
      "text/plain": [
       "   PreferredLoginDevice  PreferredPaymentMode  PreferedOrderCat  \\\n",
       "0                     1                     4                 2   \n",
       "1                     2                     4                 2   \n",
       "2                     0                     4                 4   \n",
       "3                     1                     4                 0   \n",
       "4                     2                     1                 3   \n",
       "\n",
       "   MaritalStatus  Tenure  WarehouseToHome  HourSpendOnApp  \\\n",
       "0              2     4.0              6.0             3.0   \n",
       "1              2     0.0             15.0             2.0   \n",
       "2              2     0.0             22.0             3.0   \n",
       "3              2    11.0              6.0             3.0   \n",
       "4              2     0.0             11.0             2.0   \n",
       "\n",
       "   NumberOfDeviceRegistered  SatisfactionScore  NumberOfAddress  \\\n",
       "0                         3                  2                9   \n",
       "1                         4                  5                8   \n",
       "2                         5                  5                2   \n",
       "3                         4                  3               10   \n",
       "4                         3                  3                2   \n",
       "\n",
       "   OrderAmountHikeFromlastYear  CouponUsed  OrderCount  DaySinceLastOrder  \\\n",
       "0                         11.0         1.0         1.0                5.0   \n",
       "1                         23.0         0.0         1.0                3.0   \n",
       "2                         22.0         4.0         6.0                7.0   \n",
       "3                         13.0         0.0         1.0                0.0   \n",
       "4                         13.0         2.0         2.0                2.0   \n",
       "\n",
       "   CashbackAmount  Churn  \n",
       "0          159.93      1  \n",
       "1          134.07      1  \n",
       "2          139.19      1  \n",
       "3          153.81      1  \n",
       "4          134.41      1  "
      ]
     },
     "execution_count": 64,
     "metadata": {},
     "output_type": "execute_result"
    }
   ],
   "source": [
    "#Dataset\n",
    "proc_data = pd.read_csv(\"resampled_data.csv\")\n",
    "proc_data.head()"
   ]
  },
  {
   "cell_type": "markdown",
   "metadata": {},
   "source": [
    "# Implementing Models"
   ]
  },
  {
   "cell_type": "code",
   "execution_count": 4,
   "metadata": {},
   "outputs": [
    {
     "data": {
      "text/plain": [
       "((4047, 15), (1735, 15), (4047,), (1735,))"
      ]
     },
     "execution_count": 4,
     "metadata": {},
     "output_type": "execute_result"
    }
   ],
   "source": [
    "\n",
    "y = proc_data['Churn']\n",
    "X = proc_data.drop(['Churn'], axis=1)\n",
    "\n",
    "X_train, X_test, y_train, y_test = train_test_split(X, y, test_size=0.30,random_state=42)\n",
    "\n",
    "X_train.shape, X_test.shape, y_train.shape, y_test.shape"
   ]
  },
  {
   "cell_type": "markdown",
   "metadata": {},
   "source": [
    "# Scaling"
   ]
  },
  {
   "cell_type": "code",
   "execution_count": 5,
   "metadata": {},
   "outputs": [],
   "source": [
    "from sklearn.preprocessing import MinMaxScaler\n",
    "\n",
    "Scaler = MinMaxScaler()\n",
    "x_train_scaled = Scaler.fit_transform(X_train)\n",
    "x_test_scaled = Scaler.fit_transform(X_test)"
   ]
  },
  {
   "cell_type": "markdown",
   "metadata": {},
   "source": [
    "# Implementing Models"
   ]
  },
  {
   "cell_type": "code",
   "execution_count": 38,
   "metadata": {},
   "outputs": [],
   "source": [
    "models = {\n",
    "    'Logistic Regression':LogisticRegression(),\n",
    "    'SVM':SVC(),\n",
    "    'Random Forest':RandomForestClassifier(),\n",
    "    'K Nearest Neighbor':KNeighborsClassifier(),\n",
    "    'Decision Tree':DecisionTreeClassifier(),\n",
    "    'AdaBoost Classifier':AdaBoostClassifier(),\n",
    "    'XG boost':XGBClassifier(),\n",
    "    'GaussianNB':GaussianNB()\n",
    "}"
   ]
  },
  {
   "cell_type": "markdown",
   "metadata": {},
   "source": [
    "Fit models"
   ]
  },
  {
   "cell_type": "code",
   "execution_count": 39,
   "metadata": {},
   "outputs": [
    {
     "name": "stdout",
     "output_type": "stream",
     "text": [
      "{'Model Name': 'Logistic Regression', 'Accuracy on train data': 0.7793427230046949, 'Accuracy on test data': 0.7769452449567723, 'Precision on train data': 0.7520952801058668, 'Precision on test data': 0.7494669509594882, 'Recall on train data': 0.837426326129666, 'Recall on test data': 0.8222222222222222, 'F1-score on train data': 0.7924703695096446, 'F1-score on test data': 0.7841606246514221, 'Confusion Matrix on train data': array([[1449,  562],\n",
      "       [ 331, 1705]], dtype=int64), 'Confusion Matrix on test data': array([[645, 235],\n",
      "       [152, 703]], dtype=int64)}\n",
      "\n",
      "{'Model Name': 'SVM', 'Accuracy on train data': 0.8796639486039042, 'Accuracy on test data': 0.854178674351585, 'Precision on train data': 0.8627634660421546, 'Precision on test data': 0.8374439461883408, 'Recall on train data': 0.9047151277013753, 'Recall on test data': 0.8736842105263158, 'F1-score on train data': 0.8832414289139295, 'F1-score on test data': 0.8551803091013165, 'Confusion Matrix on train data': array([[1718,  293],\n",
      "       [ 194, 1842]], dtype=int64), 'Confusion Matrix on test data': array([[735, 145],\n",
      "       [108, 747]], dtype=int64)}\n",
      "\n",
      "{'Model Name': 'Random Forest', 'Accuracy on train data': 1.0, 'Accuracy on test data': 0.9700288184438041, 'Precision on train data': 1.0, 'Precision on test data': 0.9609644087256027, 'Recall on train data': 1.0, 'Recall on test data': 0.9789473684210527, 'F1-score on train data': 1.0, 'F1-score on test data': 0.9698725376593279, 'Confusion Matrix on train data': array([[2011,    0],\n",
      "       [   0, 2036]], dtype=int64), 'Confusion Matrix on test data': array([[846,  34],\n",
      "       [ 18, 837]], dtype=int64)}\n",
      "\n",
      "{'Model Name': 'K Nearest Neighbor', 'Accuracy on train data': 0.9169755374351372, 'Accuracy on test data': 0.8651296829971181, 'Precision on train data': 0.8660637381567614, 'Precision on test data': 0.7988450433108758, 'Recall on train data': 0.987721021611002, 'Recall on test data': 0.9707602339181286, 'F1-score on train data': 0.9229004130335016, 'F1-score on test data': 0.8764519535374867, 'Confusion Matrix on train data': array([[1700,  311],\n",
      "       [  25, 2011]], dtype=int64), 'Confusion Matrix on test data': array([[671, 209],\n",
      "       [ 25, 830]], dtype=int64)}\n",
      "\n",
      "{'Model Name': 'Decision Tree', 'Accuracy on train data': 1.0, 'Accuracy on test data': 0.9164265129682997, 'Precision on train data': 1.0, 'Precision on test data': 0.8825431034482759, 'Recall on train data': 1.0, 'Recall on test data': 0.9578947368421052, 'F1-score on train data': 1.0, 'F1-score on test data': 0.918676388109927, 'Confusion Matrix on train data': array([[2011,    0],\n",
      "       [   0, 2036]], dtype=int64), 'Confusion Matrix on test data': array([[771, 109],\n",
      "       [ 36, 819]], dtype=int64)}\n",
      "\n",
      "{'Model Name': 'AdaBoost Classifier', 'Accuracy on train data': 0.8855942673585372, 'Accuracy on test data': 0.8195965417867436, 'Precision on train data': 0.8842208109428432, 'Precision on test data': 0.7641325536062378, 'Recall on train data': 0.8889980353634578, 'Recall on test data': 0.9169590643274854, 'F1-score on train data': 0.8866029879990204, 'F1-score on test data': 0.8335991493886231, 'Confusion Matrix on train data': array([[1774,  237],\n",
      "       [ 226, 1810]], dtype=int64), 'Confusion Matrix on test data': array([[638, 242],\n",
      "       [ 71, 784]], dtype=int64)}\n",
      "\n",
      "{'Model Name': 'XG boost', 'Accuracy on train data': 1.0, 'Accuracy on test data': 0.9417867435158501, 'Precision on train data': 1.0, 'Precision on test data': 0.9053763440860215, 'Recall on train data': 1.0, 'Recall on test data': 0.9847953216374269, 'F1-score on train data': 1.0, 'F1-score on test data': 0.9434173669467787, 'Confusion Matrix on train data': array([[2011,    0],\n",
      "       [   0, 2036]], dtype=int64), 'Confusion Matrix on test data': array([[792,  88],\n",
      "       [ 13, 842]], dtype=int64)}\n",
      "\n",
      "{'Model Name': 'GaussianNB', 'Accuracy on train data': 0.7027427724240178, 'Accuracy on test data': 0.7048991354466859, 'Precision on train data': 0.6805374945817079, 'Precision on test data': 0.6810982048574445, 'Recall on train data': 0.7711198428290766, 'Recall on test data': 0.7543859649122807, 'F1-score on train data': 0.7230025328114207, 'F1-score on test data': 0.7158712541620423, 'Confusion Matrix on train data': array([[1274,  737],\n",
      "       [ 466, 1570]], dtype=int64), 'Confusion Matrix on test data': array([[578, 302],\n",
      "       [210, 645]], dtype=int64)}\n",
      "\n"
     ]
    }
   ],
   "source": [
    "evaluation_metrics = []\n",
    "\n",
    "for model_name, model in models.items():\n",
    "    model.fit(x_train_scaled, y_train)\n",
    "\n",
    "    y_pred_train = model.predict(x_train_scaled)\n",
    "    y_pred_test = model.predict(x_test_scaled)\n",
    "\n",
    "    metrics_dict = {\n",
    "        'Model Name': model_name,\n",
    "        'Accuracy on train data': accuracy_score(y_train, y_pred_train),\n",
    "        'Accuracy on test data': accuracy_score(y_test, y_pred_test),\n",
    "        'Precision on train data': precision_score(y_train, y_pred_train),\n",
    "        'Precision on test data': precision_score(y_test, y_pred_test),\n",
    "        'Recall on train data': recall_score(y_train, y_pred_train),\n",
    "        'Recall on test data': recall_score(y_test, y_pred_test),\n",
    "        'F1-score on train data': f1_score(y_train, y_pred_train),\n",
    "        'F1-score on test data': f1_score(y_test, y_pred_test),\n",
    "        'Confusion Matrix on train data': confusion_matrix(y_train, y_pred_train),\n",
    "        'Confusion Matrix on test data': confusion_matrix(y_test, y_pred_test)\n",
    "    }\n",
    "\n",
    "    evaluation_metrics.append(metrics_dict)\n",
    "\n",
    "for metrics in evaluation_metrics:\n",
    "    print(metrics)\n",
    "    print()"
   ]
  },
  {
   "cell_type": "code",
   "execution_count": 40,
   "metadata": {},
   "outputs": [
    {
     "data": {
      "text/html": [
       "<div>\n",
       "<style scoped>\n",
       "    .dataframe tbody tr th:only-of-type {\n",
       "        vertical-align: middle;\n",
       "    }\n",
       "\n",
       "    .dataframe tbody tr th {\n",
       "        vertical-align: top;\n",
       "    }\n",
       "\n",
       "    .dataframe thead th {\n",
       "        text-align: right;\n",
       "    }\n",
       "</style>\n",
       "<table border=\"1\" class=\"dataframe\">\n",
       "  <thead>\n",
       "    <tr style=\"text-align: right;\">\n",
       "      <th></th>\n",
       "      <th>Model Name</th>\n",
       "      <th>Accuracy on train data</th>\n",
       "      <th>Accuracy on test data</th>\n",
       "      <th>Precision on train data</th>\n",
       "      <th>Precision on test data</th>\n",
       "      <th>Recall on train data</th>\n",
       "      <th>Recall on test data</th>\n",
       "      <th>F1-score on train data</th>\n",
       "      <th>F1-score on test data</th>\n",
       "      <th>Confusion Matrix on train data</th>\n",
       "      <th>Confusion Matrix on test data</th>\n",
       "    </tr>\n",
       "  </thead>\n",
       "  <tbody>\n",
       "    <tr>\n",
       "      <th>0</th>\n",
       "      <td>Logistic Regression</td>\n",
       "      <td>0.779343</td>\n",
       "      <td>0.776945</td>\n",
       "      <td>0.752095</td>\n",
       "      <td>0.749467</td>\n",
       "      <td>0.837426</td>\n",
       "      <td>0.822222</td>\n",
       "      <td>0.792470</td>\n",
       "      <td>0.784161</td>\n",
       "      <td>[[1449, 562], [331, 1705]]</td>\n",
       "      <td>[[645, 235], [152, 703]]</td>\n",
       "    </tr>\n",
       "    <tr>\n",
       "      <th>1</th>\n",
       "      <td>SVM</td>\n",
       "      <td>0.879664</td>\n",
       "      <td>0.854179</td>\n",
       "      <td>0.862763</td>\n",
       "      <td>0.837444</td>\n",
       "      <td>0.904715</td>\n",
       "      <td>0.873684</td>\n",
       "      <td>0.883241</td>\n",
       "      <td>0.855180</td>\n",
       "      <td>[[1718, 293], [194, 1842]]</td>\n",
       "      <td>[[735, 145], [108, 747]]</td>\n",
       "    </tr>\n",
       "    <tr>\n",
       "      <th>2</th>\n",
       "      <td>Random Forest</td>\n",
       "      <td>1.000000</td>\n",
       "      <td>0.970029</td>\n",
       "      <td>1.000000</td>\n",
       "      <td>0.960964</td>\n",
       "      <td>1.000000</td>\n",
       "      <td>0.978947</td>\n",
       "      <td>1.000000</td>\n",
       "      <td>0.969873</td>\n",
       "      <td>[[2011, 0], [0, 2036]]</td>\n",
       "      <td>[[846, 34], [18, 837]]</td>\n",
       "    </tr>\n",
       "    <tr>\n",
       "      <th>3</th>\n",
       "      <td>K Nearest Neighbor</td>\n",
       "      <td>0.916976</td>\n",
       "      <td>0.865130</td>\n",
       "      <td>0.866064</td>\n",
       "      <td>0.798845</td>\n",
       "      <td>0.987721</td>\n",
       "      <td>0.970760</td>\n",
       "      <td>0.922900</td>\n",
       "      <td>0.876452</td>\n",
       "      <td>[[1700, 311], [25, 2011]]</td>\n",
       "      <td>[[671, 209], [25, 830]]</td>\n",
       "    </tr>\n",
       "    <tr>\n",
       "      <th>4</th>\n",
       "      <td>Decision Tree</td>\n",
       "      <td>1.000000</td>\n",
       "      <td>0.916427</td>\n",
       "      <td>1.000000</td>\n",
       "      <td>0.882543</td>\n",
       "      <td>1.000000</td>\n",
       "      <td>0.957895</td>\n",
       "      <td>1.000000</td>\n",
       "      <td>0.918676</td>\n",
       "      <td>[[2011, 0], [0, 2036]]</td>\n",
       "      <td>[[771, 109], [36, 819]]</td>\n",
       "    </tr>\n",
       "    <tr>\n",
       "      <th>5</th>\n",
       "      <td>AdaBoost Classifier</td>\n",
       "      <td>0.885594</td>\n",
       "      <td>0.819597</td>\n",
       "      <td>0.884221</td>\n",
       "      <td>0.764133</td>\n",
       "      <td>0.888998</td>\n",
       "      <td>0.916959</td>\n",
       "      <td>0.886603</td>\n",
       "      <td>0.833599</td>\n",
       "      <td>[[1774, 237], [226, 1810]]</td>\n",
       "      <td>[[638, 242], [71, 784]]</td>\n",
       "    </tr>\n",
       "    <tr>\n",
       "      <th>6</th>\n",
       "      <td>XG boost</td>\n",
       "      <td>1.000000</td>\n",
       "      <td>0.941787</td>\n",
       "      <td>1.000000</td>\n",
       "      <td>0.905376</td>\n",
       "      <td>1.000000</td>\n",
       "      <td>0.984795</td>\n",
       "      <td>1.000000</td>\n",
       "      <td>0.943417</td>\n",
       "      <td>[[2011, 0], [0, 2036]]</td>\n",
       "      <td>[[792, 88], [13, 842]]</td>\n",
       "    </tr>\n",
       "    <tr>\n",
       "      <th>7</th>\n",
       "      <td>GaussianNB</td>\n",
       "      <td>0.702743</td>\n",
       "      <td>0.704899</td>\n",
       "      <td>0.680537</td>\n",
       "      <td>0.681098</td>\n",
       "      <td>0.771120</td>\n",
       "      <td>0.754386</td>\n",
       "      <td>0.723003</td>\n",
       "      <td>0.715871</td>\n",
       "      <td>[[1274, 737], [466, 1570]]</td>\n",
       "      <td>[[578, 302], [210, 645]]</td>\n",
       "    </tr>\n",
       "  </tbody>\n",
       "</table>\n",
       "</div>"
      ],
      "text/plain": [
       "            Model Name  Accuracy on train data  Accuracy on test data  \\\n",
       "0  Logistic Regression                0.779343               0.776945   \n",
       "1                  SVM                0.879664               0.854179   \n",
       "2        Random Forest                1.000000               0.970029   \n",
       "3   K Nearest Neighbor                0.916976               0.865130   \n",
       "4        Decision Tree                1.000000               0.916427   \n",
       "5  AdaBoost Classifier                0.885594               0.819597   \n",
       "6             XG boost                1.000000               0.941787   \n",
       "7           GaussianNB                0.702743               0.704899   \n",
       "\n",
       "   Precision on train data  Precision on test data  Recall on train data  \\\n",
       "0                 0.752095                0.749467              0.837426   \n",
       "1                 0.862763                0.837444              0.904715   \n",
       "2                 1.000000                0.960964              1.000000   \n",
       "3                 0.866064                0.798845              0.987721   \n",
       "4                 1.000000                0.882543              1.000000   \n",
       "5                 0.884221                0.764133              0.888998   \n",
       "6                 1.000000                0.905376              1.000000   \n",
       "7                 0.680537                0.681098              0.771120   \n",
       "\n",
       "   Recall on test data  F1-score on train data  F1-score on test data  \\\n",
       "0             0.822222                0.792470               0.784161   \n",
       "1             0.873684                0.883241               0.855180   \n",
       "2             0.978947                1.000000               0.969873   \n",
       "3             0.970760                0.922900               0.876452   \n",
       "4             0.957895                1.000000               0.918676   \n",
       "5             0.916959                0.886603               0.833599   \n",
       "6             0.984795                1.000000               0.943417   \n",
       "7             0.754386                0.723003               0.715871   \n",
       "\n",
       "  Confusion Matrix on train data Confusion Matrix on test data  \n",
       "0     [[1449, 562], [331, 1705]]      [[645, 235], [152, 703]]  \n",
       "1     [[1718, 293], [194, 1842]]      [[735, 145], [108, 747]]  \n",
       "2         [[2011, 0], [0, 2036]]        [[846, 34], [18, 837]]  \n",
       "3      [[1700, 311], [25, 2011]]       [[671, 209], [25, 830]]  \n",
       "4         [[2011, 0], [0, 2036]]       [[771, 109], [36, 819]]  \n",
       "5     [[1774, 237], [226, 1810]]       [[638, 242], [71, 784]]  \n",
       "6         [[2011, 0], [0, 2036]]        [[792, 88], [13, 842]]  \n",
       "7     [[1274, 737], [466, 1570]]      [[578, 302], [210, 645]]  "
      ]
     },
     "execution_count": 40,
     "metadata": {},
     "output_type": "execute_result"
    }
   ],
   "source": [
    "Evaluation_df = pd.DataFrame(evaluation_metrics)\n",
    "Evaluation_df"
   ]
  },
  {
   "cell_type": "code",
   "execution_count": 41,
   "metadata": {},
   "outputs": [
    {
     "data": {
      "image/png": "[encoded data removed]",
      "text/plain": [
       "<Figure size 720x288 with 4 Axes>"
      ]
     },
     "metadata": {
      "needs_background": "light"
     },
     "output_type": "display_data"
    },
    {
     "data": {
      "image/png": "[encoded data removed]",
      "text/plain": [
       "<Figure size 720x288 with 4 Axes>"
      ]
     },
     "metadata": {
      "needs_background": "light"
     },
     "output_type": "display_data"
    },
    {
     "data": {
      "image/png": "[encoded data removed]",
      "text/plain": [
       "<Figure size 720x288 with 4 Axes>"
      ]
     },
     "metadata": {
      "needs_background": "light"
     },
     "output_type": "display_data"
    },
    {
     "data": {
      "image/png": "[encoded data removed]",
      "text/plain": [
       "<Figure size 720x288 with 4 Axes>"
      ]
     },
     "metadata": {
      "needs_background": "light"
     },
     "output_type": "display_data"
    },
    {
     "data": {
      "image/png": "[encoded data removed]",
      "text/plain": [
       "<Figure size 720x288 with 4 Axes>"
      ]
     },
     "metadata": {
      "needs_background": "light"
     },
     "output_type": "display_data"
    },
    {
     "data": {
      "image/png": "[encoded data removed]",
      "text/plain": [
       "<Figure size 720x288 with 4 Axes>"
      ]
     },
     "metadata": {
      "needs_background": "light"
     },
     "output_type": "display_data"
    },
    {
     "data": {
      "image/png": "[encoded data removed]",
      "text/plain": [
       "<Figure size 720x288 with 4 Axes>"
      ]
     },
     "metadata": {
      "needs_background": "light"
     },
     "output_type": "display_data"
    },
    {
     "data": {
      "image/png": "[encoded data removed]",
      "text/plain": [
       "<Figure size 720x288 with 4 Axes>"
      ]
     },
     "metadata": {
      "needs_background": "light"
     },
     "output_type": "display_data"
    }
   ],
   "source": [
    "import matplotlib.pyplot as plt\n",
    "import numpy as np\n",
    "\n",
    "for index, row in Evaluation_df.iterrows():\n",
    "    model_name = row['Model Name']\n",
    "    cm_train = row['Confusion Matrix on train data']\n",
    "    cm_test = row['Confusion Matrix on test data']\n",
    "    \n",
    "    plt.figure(figsize=(10, 4))\n",
    "    \n",
    "    plt.subplot(1, 2, 1)\n",
    "    plt.title(f'Confusion Matrix - Train Data ({model_name})')\n",
    "    plt.imshow(cm_train, interpolation='nearest', cmap=plt.cm.Blues)\n",
    "    plt.colorbar()\n",
    "    plt.xlabel('Predicted')\n",
    "    plt.ylabel('True')\n",
    "    tick_marks = np.arange(len(cm_train))\n",
    "    plt.xticks(tick_marks, tick_marks)\n",
    "    plt.yticks(tick_marks, tick_marks)\n",
    "    plt.tight_layout()\n",
    "    plt.xticks(rotation=45)\n",
    "    for i in range(len(cm_train)):\n",
    "        for j in range(len(cm_train)):\n",
    "            plt.text(j, i, str(cm_train[i][j]), horizontalalignment=\"center\", color=\"white\" if cm_train[i, j] > (cm_train.max() / 2) else \"black\")\n",
    "\n",
    "    plt.subplot(1, 2, 2)\n",
    "    plt.title(f'Confusion Matrix - Test Data ({model_name})')\n",
    "    plt.imshow(cm_test, interpolation='nearest', cmap=plt.cm.Blues)\n",
    "    plt.colorbar()\n",
    "    plt.xlabel('Predicted')\n",
    "    plt.ylabel('True')\n",
    "    tick_marks = np.arange(len(cm_test))\n",
    "    plt.xticks(tick_marks, tick_marks)\n",
    "    plt.yticks(tick_marks, tick_marks)\n",
    "    plt.tight_layout()\n",
    "    plt.xticks(rotation=45)\n",
    "    for i in range(len(cm_test)):\n",
    "        for j in range(len(cm_test)):\n",
    "            plt.text(j, i, str(cm_test[i][j]), horizontalalignment=\"center\", color=\"white\" if cm_test[i, j] > (cm_test.max() / 2) else \"black\")\n",
    "\n",
    "    plt.show()\n"
   ]
  },
  {
   "cell_type": "markdown",
   "metadata": {},
   "source": [
    "# Ranking models based on evaluation metrics"
   ]
  },
  {
   "cell_type": "code",
   "execution_count": 42,
   "metadata": {},
   "outputs": [],
   "source": [
    "Evaluation_df['Average Performance'] = (Evaluation_df[['Accuracy on train data', 'Accuracy on test data', \n",
    "                                 'Precision on train data', 'Precision on test data',\n",
    "                                 'Recall on train data', 'Recall on test data',\n",
    "                                 'F1-score on train data', 'F1-score on test data']].mean(axis=1))"
   ]
  },
  {
   "cell_type": "code",
   "execution_count": 43,
   "metadata": {},
   "outputs": [
    {
     "name": "stdout",
     "output_type": "stream",
     "text": [
      "            Model Name  Average Performance\n",
      "2        Random Forest             0.984977\n",
      "6             XG boost             0.971922\n",
      "4        Decision Tree             0.959443\n",
      "3   K Nearest Neighbor             0.900606\n",
      "1                  SVM             0.868859\n",
      "5  AdaBoost Classifier             0.859963\n",
      "0  Logistic Regression             0.786766\n",
      "7           GaussianNB             0.716707\n"
     ]
    }
   ],
   "source": [
    "df_sorted = Evaluation_df.sort_values(by='Average Performance', ascending=False)\n",
    "print(df_sorted[['Model Name', 'Average Performance']])"
   ]
  },
  {
   "cell_type": "code",
   "execution_count": 44,
   "metadata": {},
   "outputs": [
    {
     "data": {
      "application/vnd.plotly.v1+json": {
       "config": {
        "plotlyServerURL": "https://plot.ly"
       },
       "data": [
        {
         "alignmentgroup": "True",
         "hovertemplate": "Metric=Accuracy on train data<br>Model=%{x}<br>Score=%{y}<extra></extra>",
         "legendgroup": "Accuracy on train data",
         "marker": {
          "color": "#636efa",
          "pattern": {
           "shape": ""
          }
         },
         "name": "Accuracy on train data",
         "offsetgroup": "Accuracy on train data",
         "orientation": "v",
         "showlegend": true,
         "textposition": "auto",
         "type": "bar",
         "x": [
          "Random Forest",
          "XG boost",
          "Decision Tree",
          "K Nearest Neighbor",
          "SVM",
          "AdaBoost Classifier",
          "Logistic Regression",
          "GaussianNB"
         ],
         "xaxis": "x",
         "y": [
          1,
          1,
          1,
          0.9169755374351372,
          0.8796639486039042,
          0.8855942673585372,
          0.7793427230046949,
          0.7027427724240178
         ],
         "yaxis": "y"
        },
        {
         "alignmentgroup": "True",
         "hovertemplate": "Metric=Accuracy on test data<br>Model=%{x}<br>Score=%{y}<extra></extra>",
         "legendgroup": "Accuracy on test data",
         "marker": {
          "color": "#EF553B",
          "pattern": {
           "shape": ""
          }
         },
         "name": "Accuracy on test data",
         "offsetgroup": "Accuracy on test data",
         "orientation": "v",
         "showlegend": true,
         "textposition": "auto",
         "type": "bar",
         "x": [
          "Random Forest",
          "XG boost",
          "Decision Tree",
          "K Nearest Neighbor",
          "SVM",
          "AdaBoost Classifier",
          "Logistic Regression",
          "GaussianNB"
         ],
         "xaxis": "x",
         "y": [
          0.9700288184438041,
          0.9417867435158501,
          0.9164265129682997,
          0.8651296829971181,
          0.854178674351585,
          0.8195965417867436,
          0.7769452449567723,
          0.7048991354466859
         ],
         "yaxis": "y"
        },
        {
         "alignmentgroup": "True",
         "hovertemplate": "Metric=Precision on train data<br>Model=%{x}<br>Score=%{y}<extra></extra>",
         "legendgroup": "Precision on train data",
         "marker": {
          "color": "#00cc96",
          "pattern": {
           "shape": ""
          }
         },
         "name": "Precision on train data",
         "offsetgroup": "Precision on train data",
         "orientation": "v",
         "showlegend": true,
         "textposition": "auto",
         "type": "bar",
         "x": [
          "Random Forest",
          "XG boost",
          "Decision Tree",
          "K Nearest Neighbor",
          "SVM",
          "AdaBoost Classifier",
          "Logistic Regression",
          "GaussianNB"
         ],
         "xaxis": "x",
         "y": [
          1,
          1,
          1,
          0.8660637381567614,
          0.8627634660421546,
          0.8842208109428432,
          0.7520952801058668,
          0.6805374945817079
         ],
         "yaxis": "y"
        },
        {
         "alignmentgroup": "True",
         "hovertemplate": "Metric=Precision on test data<br>Model=%{x}<br>Score=%{y}<extra></extra>",
         "legendgroup": "Precision on test data",
         "marker": {
          "color": "#ab63fa",
          "pattern": {
           "shape": ""
          }
         },
         "name": "Precision on test data",
         "offsetgroup": "Precision on test data",
         "orientation": "v",
         "showlegend": true,
         "textposition": "auto",
         "type": "bar",
         "x": [
          "Random Forest",
          "XG boost",
          "Decision Tree",
          "K Nearest Neighbor",
          "SVM",
          "AdaBoost Classifier",
          "Logistic Regression",
          "GaussianNB"
         ],
         "xaxis": "x",
         "y": [
          0.9609644087256027,
          0.9053763440860215,
          0.8825431034482759,
          0.7988450433108758,
          0.8374439461883408,
          0.7641325536062378,
          0.7494669509594882,
          0.6810982048574445
         ],
         "yaxis": "y"
        },
        {
         "alignmentgroup": "True",
         "hovertemplate": "Metric=Recall on train data<br>Model=%{x}<br>Score=%{y}<extra></extra>",
         "legendgroup": "Recall on train data",
         "marker": {
          "color": "#FFA15A",
          "pattern": {
           "shape": ""
          }
         },
         "name": "Recall on train data",
         "offsetgroup": "Recall on train data",
         "orientation": "v",
         "showlegend": true,
         "textposition": "auto",
         "type": "bar",
         "x": [
          "Random Forest",
          "XG boost",
          "Decision Tree",
          "K Nearest Neighbor",
          "SVM",
          "AdaBoost Classifier",
          "Logistic Regression",
          "GaussianNB"
         ],
         "xaxis": "x",
         "y": [
          1,
          1,
          1,
          0.987721021611002,
          0.9047151277013753,
          0.8889980353634578,
          0.837426326129666,
          0.7711198428290766
         ],
         "yaxis": "y"
        },
        {
         "alignmentgroup": "True",
         "hovertemplate": "Metric=Recall on test data<br>Model=%{x}<br>Score=%{y}<extra></extra>",
         "legendgroup": "Recall on test data",
         "marker": {
          "color": "#19d3f3",
          "pattern": {
           "shape": ""
          }
         },
         "name": "Recall on test data",
         "offsetgroup": "Recall on test data",
         "orientation": "v",
         "showlegend": true,
         "textposition": "auto",
         "type": "bar",
         "x": [
          "Random Forest",
          "XG boost",
          "Decision Tree",
          "K Nearest Neighbor",
          "SVM",
          "AdaBoost Classifier",
          "Logistic Regression",
          "GaussianNB"
         ],
         "xaxis": "x",
         "y": [
          0.9789473684210527,
          0.9847953216374269,
          0.9578947368421052,
          0.9707602339181286,
          0.8736842105263158,
          0.9169590643274854,
          0.8222222222222222,
          0.7543859649122807
         ],
         "yaxis": "y"
        },
        {
         "alignmentgroup": "True",
         "hovertemplate": "Metric=F1-score on train data<br>Model=%{x}<br>Score=%{y}<extra></extra>",
         "legendgroup": "F1-score on train data",
         "marker": {
          "color": "#FF6692",
          "pattern": {
           "shape": ""
          }
         },
         "name": "F1-score on train data",
         "offsetgroup": "F1-score on train data",
         "orientation": "v",
         "showlegend": true,
         "textposition": "auto",
         "type": "bar",
         "x": [
          "Random Forest",
          "XG boost",
          "Decision Tree",
          "K Nearest Neighbor",
          "SVM",
          "AdaBoost Classifier",
          "Logistic Regression",
          "GaussianNB"
         ],
         "xaxis": "x",
         "y": [
          1,
          1,
          1,
          0.9229004130335016,
          0.8832414289139295,
          0.8866029879990204,
          0.7924703695096446,
          0.7230025328114207
         ],
         "yaxis": "y"
        },
        {
         "alignmentgroup": "True",
         "hovertemplate": "Metric=F1-score on test data<br>Model=%{x}<br>Score=%{y}<extra></extra>",
         "legendgroup": "F1-score on test data",
         "marker": {
          "color": "#B6E880",
          "pattern": {
           "shape": ""
          }
         },
         "name": "F1-score on test data",
         "offsetgroup": "F1-score on test data",
         "orientation": "v",
         "showlegend": true,
         "textposition": "auto",
         "type": "bar",
         "x": [
          "Random Forest",
          "XG boost",
          "Decision Tree",
          "K Nearest Neighbor",
          "SVM",
          "AdaBoost Classifier",
          "Logistic Regression",
          "GaussianNB"
         ],
         "xaxis": "x",
         "y": [
          0.9698725376593279,
          0.9434173669467787,
          0.918676388109927,
          0.8764519535374867,
          0.8551803091013165,
          0.8335991493886231,
          0.7841606246514221,
          0.7158712541620423
         ],
         "yaxis": "y"
        }
       ],
       "layout": {
        "barmode": "group",
        "legend": {
         "title": {
          "text": "Metric"
         },
         "tracegroupgap": 0
        },
        "template": {
         "data": {
          "bar": [
           {
            "error_x": {
             "color": "#2a3f5f"
            },
            "error_y": {
             "color": "#2a3f5f"
            },
            "marker": {
             "line": {
              "color": "#E5ECF6",
              "width": 0.5
             },
             "pattern": {
              "fillmode": "overlay",
              "size": 10,
              "solidity": 0.2
             }
            },
            "type": "bar"
           }
          ],
          "barpolar": [
           {
            "marker": {
             "line": {
              "color": "#E5ECF6",
              "width": 0.5
             },
             "pattern": {
              "fillmode": "overlay",
              "size": 10,
              "solidity": 0.2
             }
            },
            "type": "barpolar"
           }
          ],
          "carpet": [
           {
            "aaxis": {
             "endlinecolor": "#2a3f5f",
             "gridcolor": "white",
             "linecolor": "white",
             "minorgridcolor": "white",
             "startlinecolor": "#2a3f5f"
            },
            "baxis": {
             "endlinecolor": "#2a3f5f",
             "gridcolor": "white",
             "linecolor": "white",
             "minorgridcolor": "white",
             "startlinecolor": "#2a3f5f"
            },
            "type": "carpet"
           }
          ],
          "choropleth": [
           {
            "colorbar": {
             "outlinewidth": 0,
             "ticks": ""
            },
            "type": "choropleth"
           }
          ],
          "contour": [
           {
            "colorbar": {
             "outlinewidth": 0,
             "ticks": ""
            },
            "colorscale": [
             [
              0,
              "#0d0887"
             ],
             [
              0.1111111111111111,
              "#46039f"
             ],
             [
              0.2222222222222222,
              "#7201a8"
             ],
             [
              0.3333333333333333,
              "#9c179e"
             ],
             [
              0.4444444444444444,
              "#bd3786"
             ],
             [
              0.5555555555555556,
              "#d8576b"
             ],
             [
              0.6666666666666666,
              "#ed7953"
             ],
             [
              0.7777777777777778,
              "#fb9f3a"
             ],
             [
              0.8888888888888888,
              "#fdca26"
             ],
             [
              1,
              "#f0f921"
             ]
            ],
            "type": "contour"
           }
          ],
          "contourcarpet": [
           {
            "colorbar": {
             "outlinewidth": 0,
             "ticks": ""
            },
            "type": "contourcarpet"
           }
          ],
          "heatmap": [
           {
            "colorbar": {
             "outlinewidth": 0,
             "ticks": ""
            },
            "colorscale": [
             [
              0,
              "#0d0887"
             ],
             [
              0.1111111111111111,
              "#46039f"
             ],
             [
              0.2222222222222222,
              "#7201a8"
             ],
             [
              0.3333333333333333,
              "#9c179e"
             ],
             [
              0.4444444444444444,
              "#bd3786"
             ],
             [
              0.5555555555555556,
              "#d8576b"
             ],
             [
              0.6666666666666666,
              "#ed7953"
             ],
             [
              0.7777777777777778,
              "#fb9f3a"
             ],
             [
              0.8888888888888888,
              "#fdca26"
             ],
             [
              1,
              "#f0f921"
             ]
            ],
            "type": "heatmap"
           }
          ],
          "heatmapgl": [
           {
            "colorbar": {
             "outlinewidth": 0,
             "ticks": ""
            },
            "colorscale": [
             [
              0,
              "#0d0887"
             ],
             [
              0.1111111111111111,
              "#46039f"
             ],
             [
              0.2222222222222222,
              "#7201a8"
             ],
             [
              0.3333333333333333,
              "#9c179e"
             ],
             [
              0.4444444444444444,
              "#bd3786"
             ],
             [
              0.5555555555555556,
              "#d8576b"
             ],
             [
              0.6666666666666666,
              "#ed7953"
             ],
             [
              0.7777777777777778,
              "#fb9f3a"
             ],
             [
              0.8888888888888888,
              "#fdca26"
             ],
             [
              1,
              "#f0f921"
             ]
            ],
            "type": "heatmapgl"
           }
          ],
          "histogram": [
           {
            "marker": {
             "pattern": {
              "fillmode": "overlay",
              "size": 10,
              "solidity": 0.2
             }
            },
            "type": "histogram"
           }
          ],
          "histogram2d": [
           {
            "colorbar": {
             "outlinewidth": 0,
             "ticks": ""
            },
            "colorscale": [
             [
              0,
              "#0d0887"
             ],
             [
              0.1111111111111111,
              "#46039f"
             ],
             [
              0.2222222222222222,
              "#7201a8"
             ],
             [
              0.3333333333333333,
              "#9c179e"
             ],
             [
              0.4444444444444444,
              "#bd3786"
             ],
             [
              0.5555555555555556,
              "#d8576b"
             ],
             [
              0.6666666666666666,
              "#ed7953"
             ],
             [
              0.7777777777777778,
              "#fb9f3a"
             ],
             [
              0.8888888888888888,
              "#fdca26"
             ],
             [
              1,
              "#f0f921"
             ]
            ],
            "type": "histogram2d"
           }
          ],
          "histogram2dcontour": [
           {
            "colorbar": {
             "outlinewidth": 0,
             "ticks": ""
            },
            "colorscale": [
             [
              0,
              "#0d0887"
             ],
             [
              0.1111111111111111,
              "#46039f"
             ],
             [
              0.2222222222222222,
              "#7201a8"
             ],
             [
              0.3333333333333333,
              "#9c179e"
             ],
             [
              0.4444444444444444,
              "#bd3786"
             ],
             [
              0.5555555555555556,
              "#d8576b"
             ],
             [
              0.6666666666666666,
              "#ed7953"
             ],
             [
              0.7777777777777778,
              "#fb9f3a"
             ],
             [
              0.8888888888888888,
              "#fdca26"
             ],
             [
              1,
              "#f0f921"
             ]
            ],
            "type": "histogram2dcontour"
           }
          ],
          "mesh3d": [
           {
            "colorbar": {
             "outlinewidth": 0,
             "ticks": ""
            },
            "type": "mesh3d"
           }
          ],
          "parcoords": [
           {
            "line": {
             "colorbar": {
              "outlinewidth": 0,
              "ticks": ""
             }
            },
            "type": "parcoords"
           }
          ],
          "pie": [
           {
            "automargin": true,
            "type": "pie"
           }
          ],
          "scatter": [
           {
            "marker": {
             "colorbar": {
              "outlinewidth": 0,
              "ticks": ""
             }
            },
            "type": "scatter"
           }
          ],
          "scatter3d": [
           {
            "line": {
             "colorbar": {
              "outlinewidth": 0,
              "ticks": ""
             }
            },
            "marker": {
             "colorbar": {
              "outlinewidth": 0,
              "ticks": ""
             }
            },
            "type": "scatter3d"
           }
          ],
          "scattercarpet": [
           {
            "marker": {
             "colorbar": {
              "outlinewidth": 0,
              "ticks": ""
             }
            },
            "type": "scattercarpet"
           }
          ],
          "scattergeo": [
           {
            "marker": {
             "colorbar": {
              "outlinewidth": 0,
              "ticks": ""
             }
            },
            "type": "scattergeo"
           }
          ],
          "scattergl": [
           {
            "marker": {
             "colorbar": {
              "outlinewidth": 0,
              "ticks": ""
             }
            },
            "type": "scattergl"
           }
          ],
          "scattermapbox": [
           {
            "marker": {
             "colorbar": {
              "outlinewidth": 0,
              "ticks": ""
             }
            },
            "type": "scattermapbox"
           }
          ],
          "scatterpolar": [
           {
            "marker": {
             "colorbar": {
              "outlinewidth": 0,
              "ticks": ""
             }
            },
            "type": "scatterpolar"
           }
          ],
          "scatterpolargl": [
           {
            "marker": {
             "colorbar": {
              "outlinewidth": 0,
              "ticks": ""
             }
            },
            "type": "scatterpolargl"
           }
          ],
          "scatterternary": [
           {
            "marker": {
             "colorbar": {
              "outlinewidth": 0,
              "ticks": ""
             }
            },
            "type": "scatterternary"
           }
          ],
          "surface": [
           {
            "colorbar": {
             "outlinewidth": 0,
             "ticks": ""
            },
            "colorscale": [
             [
              0,
              "#0d0887"
             ],
             [
              0.1111111111111111,
              "#46039f"
             ],
             [
              0.2222222222222222,
              "#7201a8"
             ],
             [
              0.3333333333333333,
              "#9c179e"
             ],
             [
              0.4444444444444444,
              "#bd3786"
             ],
             [
              0.5555555555555556,
              "#d8576b"
             ],
             [
              0.6666666666666666,
              "#ed7953"
             ],
             [
              0.7777777777777778,
              "#fb9f3a"
             ],
             [
              0.8888888888888888,
              "#fdca26"
             ],
             [
              1,
              "#f0f921"
             ]
            ],
            "type": "surface"
           }
          ],
          "table": [
           {
            "cells": {
             "fill": {
              "color": "#EBF0F8"
             },
             "line": {
              "color": "white"
             }
            },
            "header": {
             "fill": {
              "color": "#C8D4E3"
             },
             "line": {
              "color": "white"
             }
            },
            "type": "table"
           }
          ]
         },
         "layout": {
          "annotationdefaults": {
           "arrowcolor": "#2a3f5f",
           "arrowhead": 0,
           "arrowwidth": 1
          },
          "autotypenumbers": "strict",
          "coloraxis": {
           "colorbar": {
            "outlinewidth": 0,
            "ticks": ""
           }
          },
          "colorscale": {
           "diverging": [
            [
             0,
             "#8e0152"
            ],
            [
             0.1,
             "#c51b7d"
            ],
            [
             0.2,
             "#de77ae"
            ],
            [
             0.3,
             "#f1b6da"
            ],
            [
             0.4,
             "#fde0ef"
            ],
            [
             0.5,
             "#f7f7f7"
            ],
            [
             0.6,
             "#e6f5d0"
            ],
            [
             0.7,
             "#b8e186"
            ],
            [
             0.8,
             "#7fbc41"
            ],
            [
             0.9,
             "#4d9221"
            ],
            [
             1,
             "#276419"
            ]
           ],
           "sequential": [
            [
             0,
             "#0d0887"
            ],
            [
             0.1111111111111111,
             "#46039f"
            ],
            [
             0.2222222222222222,
             "#7201a8"
            ],
            [
             0.3333333333333333,
             "#9c179e"
            ],
            [
             0.4444444444444444,
             "#bd3786"
            ],
            [
             0.5555555555555556,
             "#d8576b"
            ],
            [
             0.6666666666666666,
             "#ed7953"
            ],
            [
             0.7777777777777778,
             "#fb9f3a"
            ],
            [
             0.8888888888888888,
             "#fdca26"
            ],
            [
             1,
             "#f0f921"
            ]
           ],
           "sequentialminus": [
            [
             0,
             "#0d0887"
            ],
            [
             0.1111111111111111,
             "#46039f"
            ],
            [
             0.2222222222222222,
             "#7201a8"
            ],
            [
             0.3333333333333333,
             "#9c179e"
            ],
            [
             0.4444444444444444,
             "#bd3786"
            ],
            [
             0.5555555555555556,
             "#d8576b"
            ],
            [
             0.6666666666666666,
             "#ed7953"
            ],
            [
             0.7777777777777778,
             "#fb9f3a"
            ],
            [
             0.8888888888888888,
             "#fdca26"
            ],
            [
             1,
             "#f0f921"
            ]
           ]
          },
          "colorway": [
           "#636efa",
           "#EF553B",
           "#00cc96",
           "#ab63fa",
           "#FFA15A",
           "#19d3f3",
           "#FF6692",
           "#B6E880",
           "#FF97FF",
           "#FECB52"
          ],
          "font": {
           "color": "#2a3f5f"
          },
          "geo": {
           "bgcolor": "white",
           "lakecolor": "white",
           "landcolor": "#E5ECF6",
           "showlakes": true,
           "showland": true,
           "subunitcolor": "white"
          },
          "hoverlabel": {
           "align": "left"
          },
          "hovermode": "closest",
          "mapbox": {
           "style": "light"
          },
          "paper_bgcolor": "white",
          "plot_bgcolor": "#E5ECF6",
          "polar": {
           "angularaxis": {
            "gridcolor": "white",
            "linecolor": "white",
            "ticks": ""
           },
           "bgcolor": "#E5ECF6",
           "radialaxis": {
            "gridcolor": "white",
            "linecolor": "white",
            "ticks": ""
           }
          },
          "scene": {
           "xaxis": {
            "backgroundcolor": "#E5ECF6",
            "gridcolor": "white",
            "gridwidth": 2,
            "linecolor": "white",
            "showbackground": true,
            "ticks": "",
            "zerolinecolor": "white"
           },
           "yaxis": {
            "backgroundcolor": "#E5ECF6",
            "gridcolor": "white",
            "gridwidth": 2,
            "linecolor": "white",
            "showbackground": true,
            "ticks": "",
            "zerolinecolor": "white"
           },
           "zaxis": {
            "backgroundcolor": "#E5ECF6",
            "gridcolor": "white",
            "gridwidth": 2,
            "linecolor": "white",
            "showbackground": true,
            "ticks": "",
            "zerolinecolor": "white"
           }
          },
          "shapedefaults": {
           "line": {
            "color": "#2a3f5f"
           }
          },
          "ternary": {
           "aaxis": {
            "gridcolor": "white",
            "linecolor": "white",
            "ticks": ""
           },
           "baxis": {
            "gridcolor": "white",
            "linecolor": "white",
            "ticks": ""
           },
           "bgcolor": "#E5ECF6",
           "caxis": {
            "gridcolor": "white",
            "linecolor": "white",
            "ticks": ""
           }
          },
          "title": {
           "x": 0.05
          },
          "xaxis": {
           "automargin": true,
           "gridcolor": "white",
           "linecolor": "white",
           "ticks": "",
           "title": {
            "standoff": 15
           },
           "zerolinecolor": "white",
           "zerolinewidth": 2
          },
          "yaxis": {
           "automargin": true,
           "gridcolor": "white",
           "linecolor": "white",
           "ticks": "",
           "title": {
            "standoff": 15
           },
           "zerolinecolor": "white",
           "zerolinewidth": 2
          }
         }
        },
        "title": {
         "text": "Performance Metrics Comparison by Model"
        },
        "xaxis": {
         "anchor": "y",
         "domain": [
          0,
          1
         ],
         "title": {
          "text": "Model"
         }
        },
        "yaxis": {
         "anchor": "x",
         "domain": [
          0,
          1
         ],
         "title": {
          "text": "Score"
         }
        }
       }
      },
      "text/html": [
       "<div>                            <div id=\"4bab0b08-2156-42e1-be53-c10697a4fe66\" class=\"plotly-graph-div\" style=\"height:525px; width:100%;\"></div>            <script type=\"text/javascript\">                require([\"plotly\"], function(Plotly) {                    window.PLOTLYENV=window.PLOTLYENV || {};                                    if (document.getElementById(\"4bab0b08-2156-42e1-be53-c10697a4fe66\")) {                    Plotly.newPlot(                        \"4bab0b08-2156-42e1-be53-c10697a4fe66\",                        [{\"alignmentgroup\":\"True\",\"hovertemplate\":\"Metric=Accuracy on train data<br>Model=%{x}<br>Score=%{y}<extra></extra>\",\"legendgroup\":\"Accuracy on train data\",\"marker\":{\"color\":\"#636efa\",\"pattern\":{\"shape\":\"\"}},\"name\":\"Accuracy on train data\",\"offsetgroup\":\"Accuracy on train data\",\"orientation\":\"v\",\"showlegend\":true,\"textposition\":\"auto\",\"x\":[\"Random Forest\",\"XG boost\",\"Decision Tree\",\"K Nearest Neighbor\",\"SVM\",\"AdaBoost Classifier\",\"Logistic Regression\",\"GaussianNB\"],\"xaxis\":\"x\",\"y\":[1.0,1.0,1.0,0.9169755374351372,0.8796639486039042,0.8855942673585372,0.7793427230046949,0.7027427724240178],\"yaxis\":\"y\",\"type\":\"bar\"},{\"alignmentgroup\":\"True\",\"hovertemplate\":\"Metric=Accuracy on test data<br>Model=%{x}<br>Score=%{y}<extra></extra>\",\"legendgroup\":\"Accuracy on test data\",\"marker\":{\"color\":\"#EF553B\",\"pattern\":{\"shape\":\"\"}},\"name\":\"Accuracy on test data\",\"offsetgroup\":\"Accuracy on test data\",\"orientation\":\"v\",\"showlegend\":true,\"textposition\":\"auto\",\"x\":[\"Random Forest\",\"XG boost\",\"Decision Tree\",\"K Nearest Neighbor\",\"SVM\",\"AdaBoost Classifier\",\"Logistic Regression\",\"GaussianNB\"],\"xaxis\":\"x\",\"y\":[0.9700288184438041,0.9417867435158501,0.9164265129682997,0.8651296829971181,0.854178674351585,0.8195965417867436,0.7769452449567723,0.7048991354466859],\"yaxis\":\"y\",\"type\":\"bar\"},{\"alignmentgroup\":\"True\",\"hovertemplate\":\"Metric=Precision on train data<br>Model=%{x}<br>Score=%{y}<extra></extra>\",\"legendgroup\":\"Precision on train data\",\"marker\":{\"color\":\"#00cc96\",\"pattern\":{\"shape\":\"\"}},\"name\":\"Precision on train data\",\"offsetgroup\":\"Precision on train data\",\"orientation\":\"v\",\"showlegend\":true,\"textposition\":\"auto\",\"x\":[\"Random Forest\",\"XG boost\",\"Decision Tree\",\"K Nearest Neighbor\",\"SVM\",\"AdaBoost Classifier\",\"Logistic Regression\",\"GaussianNB\"],\"xaxis\":\"x\",\"y\":[1.0,1.0,1.0,0.8660637381567614,0.8627634660421546,0.8842208109428432,0.7520952801058668,0.6805374945817079],\"yaxis\":\"y\",\"type\":\"bar\"},{\"alignmentgroup\":\"True\",\"hovertemplate\":\"Metric=Precision on test data<br>Model=%{x}<br>Score=%{y}<extra></extra>\",\"legendgroup\":\"Precision on test data\",\"marker\":{\"color\":\"#ab63fa\",\"pattern\":{\"shape\":\"\"}},\"name\":\"Precision on test data\",\"offsetgroup\":\"Precision on test data\",\"orientation\":\"v\",\"showlegend\":true,\"textposition\":\"auto\",\"x\":[\"Random Forest\",\"XG boost\",\"Decision Tree\",\"K Nearest Neighbor\",\"SVM\",\"AdaBoost Classifier\",\"Logistic Regression\",\"GaussianNB\"],\"xaxis\":\"x\",\"y\":[0.9609644087256027,0.9053763440860215,0.8825431034482759,0.7988450433108758,0.8374439461883408,0.7641325536062378,0.7494669509594882,0.6810982048574445],\"yaxis\":\"y\",\"type\":\"bar\"},{\"alignmentgroup\":\"True\",\"hovertemplate\":\"Metric=Recall on train data<br>Model=%{x}<br>Score=%{y}<extra></extra>\",\"legendgroup\":\"Recall on train data\",\"marker\":{\"color\":\"#FFA15A\",\"pattern\":{\"shape\":\"\"}},\"name\":\"Recall on train data\",\"offsetgroup\":\"Recall on train data\",\"orientation\":\"v\",\"showlegend\":true,\"textposition\":\"auto\",\"x\":[\"Random Forest\",\"XG boost\",\"Decision Tree\",\"K Nearest Neighbor\",\"SVM\",\"AdaBoost Classifier\",\"Logistic Regression\",\"GaussianNB\"],\"xaxis\":\"x\",\"y\":[1.0,1.0,1.0,0.987721021611002,0.9047151277013753,0.8889980353634578,0.837426326129666,0.7711198428290766],\"yaxis\":\"y\",\"type\":\"bar\"},{\"alignmentgroup\":\"True\",\"hovertemplate\":\"Metric=Recall on test data<br>Model=%{x}<br>Score=%{y}<extra></extra>\",\"legendgroup\":\"Recall on test data\",\"marker\":{\"color\":\"#19d3f3\",\"pattern\":{\"shape\":\"\"}},\"name\":\"Recall on test data\",\"offsetgroup\":\"Recall on test data\",\"orientation\":\"v\",\"showlegend\":true,\"textposition\":\"auto\",\"x\":[\"Random Forest\",\"XG boost\",\"Decision Tree\",\"K Nearest Neighbor\",\"SVM\",\"AdaBoost Classifier\",\"Logistic Regression\",\"GaussianNB\"],\"xaxis\":\"x\",\"y\":[0.9789473684210527,0.9847953216374269,0.9578947368421052,0.9707602339181286,0.8736842105263158,0.9169590643274854,0.8222222222222222,0.7543859649122807],\"yaxis\":\"y\",\"type\":\"bar\"},{\"alignmentgroup\":\"True\",\"hovertemplate\":\"Metric=F1-score on train data<br>Model=%{x}<br>Score=%{y}<extra></extra>\",\"legendgroup\":\"F1-score on train data\",\"marker\":{\"color\":\"#FF6692\",\"pattern\":{\"shape\":\"\"}},\"name\":\"F1-score on train data\",\"offsetgroup\":\"F1-score on train data\",\"orientation\":\"v\",\"showlegend\":true,\"textposition\":\"auto\",\"x\":[\"Random Forest\",\"XG boost\",\"Decision Tree\",\"K Nearest Neighbor\",\"SVM\",\"AdaBoost Classifier\",\"Logistic Regression\",\"GaussianNB\"],\"xaxis\":\"x\",\"y\":[1.0,1.0,1.0,0.9229004130335016,0.8832414289139295,0.8866029879990204,0.7924703695096446,0.7230025328114207],\"yaxis\":\"y\",\"type\":\"bar\"},{\"alignmentgroup\":\"True\",\"hovertemplate\":\"Metric=F1-score on test data<br>Model=%{x}<br>Score=%{y}<extra></extra>\",\"legendgroup\":\"F1-score on test data\",\"marker\":{\"color\":\"#B6E880\",\"pattern\":{\"shape\":\"\"}},\"name\":\"F1-score on test data\",\"offsetgroup\":\"F1-score on test data\",\"orientation\":\"v\",\"showlegend\":true,\"textposition\":\"auto\",\"x\":[\"Random Forest\",\"XG boost\",\"Decision Tree\",\"K Nearest Neighbor\",\"SVM\",\"AdaBoost Classifier\",\"Logistic Regression\",\"GaussianNB\"],\"xaxis\":\"x\",\"y\":[0.9698725376593279,0.9434173669467787,0.918676388109927,0.8764519535374867,0.8551803091013165,0.8335991493886231,0.7841606246514221,0.7158712541620423],\"yaxis\":\"y\",\"type\":\"bar\"}],                        {\"template\":{\"data\":{\"bar\":[{\"error_x\":{\"color\":\"#2a3f5f\"},\"error_y\":{\"color\":\"#2a3f5f\"},\"marker\":{\"line\":{\"color\":\"#E5ECF6\",\"width\":0.5},\"pattern\":{\"fillmode\":\"overlay\",\"size\":10,\"solidity\":0.2}},\"type\":\"bar\"}],\"barpolar\":[{\"marker\":{\"line\":{\"color\":\"#E5ECF6\",\"width\":0.5},\"pattern\":{\"fillmode\":\"overlay\",\"size\":10,\"solidity\":0.2}},\"type\":\"barpolar\"}],\"carpet\":[{\"aaxis\":{\"endlinecolor\":\"#2a3f5f\",\"gridcolor\":\"white\",\"linecolor\":\"white\",\"minorgridcolor\":\"white\",\"startlinecolor\":\"#2a3f5f\"},\"baxis\":{\"endlinecolor\":\"#2a3f5f\",\"gridcolor\":\"white\",\"linecolor\":\"white\",\"minorgridcolor\":\"white\",\"startlinecolor\":\"#2a3f5f\"},\"type\":\"carpet\"}],\"choropleth\":[{\"colorbar\":{\"outlinewidth\":0,\"ticks\":\"\"},\"type\":\"choropleth\"}],\"contour\":[{\"colorbar\":{\"outlinewidth\":0,\"ticks\":\"\"},\"colorscale\":[[0.0,\"#0d0887\"],[0.1111111111111111,\"#46039f\"],[0.2222222222222222,\"#7201a8\"],[0.3333333333333333,\"#9c179e\"],[0.4444444444444444,\"#bd3786\"],[0.5555555555555556,\"#d8576b\"],[0.6666666666666666,\"#ed7953\"],[0.7777777777777778,\"#fb9f3a\"],[0.8888888888888888,\"#fdca26\"],[1.0,\"#f0f921\"]],\"type\":\"contour\"}],\"contourcarpet\":[{\"colorbar\":{\"outlinewidth\":0,\"ticks\":\"\"},\"type\":\"contourcarpet\"}],\"heatmap\":[{\"colorbar\":{\"outlinewidth\":0,\"ticks\":\"\"},\"colorscale\":[[0.0,\"#0d0887\"],[0.1111111111111111,\"#46039f\"],[0.2222222222222222,\"#7201a8\"],[0.3333333333333333,\"#9c179e\"],[0.4444444444444444,\"#bd3786\"],[0.5555555555555556,\"#d8576b\"],[0.6666666666666666,\"#ed7953\"],[0.7777777777777778,\"#fb9f3a\"],[0.8888888888888888,\"#fdca26\"],[1.0,\"#f0f921\"]],\"type\":\"heatmap\"}],\"heatmapgl\":[{\"colorbar\":{\"outlinewidth\":0,\"ticks\":\"\"},\"colorscale\":[[0.0,\"#0d0887\"],[0.1111111111111111,\"#46039f\"],[0.2222222222222222,\"#7201a8\"],[0.3333333333333333,\"#9c179e\"],[0.4444444444444444,\"#bd3786\"],[0.5555555555555556,\"#d8576b\"],[0.6666666666666666,\"#ed7953\"],[0.7777777777777778,\"#fb9f3a\"],[0.8888888888888888,\"#fdca26\"],[1.0,\"#f0f921\"]],\"type\":\"heatmapgl\"}],\"histogram\":[{\"marker\":{\"pattern\":{\"fillmode\":\"overlay\",\"size\":10,\"solidity\":0.2}},\"type\":\"histogram\"}],\"histogram2d\":[{\"colorbar\":{\"outlinewidth\":0,\"ticks\":\"\"},\"colorscale\":[[0.0,\"#0d0887\"],[0.1111111111111111,\"#46039f\"],[0.2222222222222222,\"#7201a8\"],[0.3333333333333333,\"#9c179e\"],[0.4444444444444444,\"#bd3786\"],[0.5555555555555556,\"#d8576b\"],[0.6666666666666666,\"#ed7953\"],[0.7777777777777778,\"#fb9f3a\"],[0.8888888888888888,\"#fdca26\"],[1.0,\"#f0f921\"]],\"type\":\"histogram2d\"}],\"histogram2dcontour\":[{\"colorbar\":{\"outlinewidth\":0,\"ticks\":\"\"},\"colorscale\":[[0.0,\"#0d0887\"],[0.1111111111111111,\"#46039f\"],[0.2222222222222222,\"#7201a8\"],[0.3333333333333333,\"#9c179e\"],[0.4444444444444444,\"#bd3786\"],[0.5555555555555556,\"#d8576b\"],[0.6666666666666666,\"#ed7953\"],[0.7777777777777778,\"#fb9f3a\"],[0.8888888888888888,\"#fdca26\"],[1.0,\"#f0f921\"]],\"type\":\"histogram2dcontour\"}],\"mesh3d\":[{\"colorbar\":{\"outlinewidth\":0,\"ticks\":\"\"},\"type\":\"mesh3d\"}],\"parcoords\":[{\"line\":{\"colorbar\":{\"outlinewidth\":0,\"ticks\":\"\"}},\"type\":\"parcoords\"}],\"pie\":[{\"automargin\":true,\"type\":\"pie\"}],\"scatter\":[{\"marker\":{\"colorbar\":{\"outlinewidth\":0,\"ticks\":\"\"}},\"type\":\"scatter\"}],\"scatter3d\":[{\"line\":{\"colorbar\":{\"outlinewidth\":0,\"ticks\":\"\"}},\"marker\":{\"colorbar\":{\"outlinewidth\":0,\"ticks\":\"\"}},\"type\":\"scatter3d\"}],\"scattercarpet\":[{\"marker\":{\"colorbar\":{\"outlinewidth\":0,\"ticks\":\"\"}},\"type\":\"scattercarpet\"}],\"scattergeo\":[{\"marker\":{\"colorbar\":{\"outlinewidth\":0,\"ticks\":\"\"}},\"type\":\"scattergeo\"}],\"scattergl\":[{\"marker\":{\"colorbar\":{\"outlinewidth\":0,\"ticks\":\"\"}},\"type\":\"scattergl\"}],\"scattermapbox\":[{\"marker\":{\"colorbar\":{\"outlinewidth\":0,\"ticks\":\"\"}},\"type\":\"scattermapbox\"}],\"scatterpolar\":[{\"marker\":{\"colorbar\":{\"outlinewidth\":0,\"ticks\":\"\"}},\"type\":\"scatterpolar\"}],\"scatterpolargl\":[{\"marker\":{\"colorbar\":{\"outlinewidth\":0,\"ticks\":\"\"}},\"type\":\"scatterpolargl\"}],\"scatterternary\":[{\"marker\":{\"colorbar\":{\"outlinewidth\":0,\"ticks\":\"\"}},\"type\":\"scatterternary\"}],\"surface\":[{\"colorbar\":{\"outlinewidth\":0,\"ticks\":\"\"},\"colorscale\":[[0.0,\"#0d0887\"],[0.1111111111111111,\"#46039f\"],[0.2222222222222222,\"#7201a8\"],[0.3333333333333333,\"#9c179e\"],[0.4444444444444444,\"#bd3786\"],[0.5555555555555556,\"#d8576b\"],[0.6666666666666666,\"#ed7953\"],[0.7777777777777778,\"#fb9f3a\"],[0.8888888888888888,\"#fdca26\"],[1.0,\"#f0f921\"]],\"type\":\"surface\"}],\"table\":[{\"cells\":{\"fill\":{\"color\":\"#EBF0F8\"},\"line\":{\"color\":\"white\"}},\"header\":{\"fill\":{\"color\":\"#C8D4E3\"},\"line\":{\"color\":\"white\"}},\"type\":\"table\"}]},\"layout\":{\"annotationdefaults\":{\"arrowcolor\":\"#2a3f5f\",\"arrowhead\":0,\"arrowwidth\":1},\"autotypenumbers\":\"strict\",\"coloraxis\":{\"colorbar\":{\"outlinewidth\":0,\"ticks\":\"\"}},\"colorscale\":{\"diverging\":[[0,\"#8e0152\"],[0.1,\"#c51b7d\"],[0.2,\"#de77ae\"],[0.3,\"#f1b6da\"],[0.4,\"#fde0ef\"],[0.5,\"#f7f7f7\"],[0.6,\"#e6f5d0\"],[0.7,\"#b8e186\"],[0.8,\"#7fbc41\"],[0.9,\"#4d9221\"],[1,\"#276419\"]],\"sequential\":[[0.0,\"#0d0887\"],[0.1111111111111111,\"#46039f\"],[0.2222222222222222,\"#7201a8\"],[0.3333333333333333,\"#9c179e\"],[0.4444444444444444,\"#bd3786\"],[0.5555555555555556,\"#d8576b\"],[0.6666666666666666,\"#ed7953\"],[0.7777777777777778,\"#fb9f3a\"],[0.8888888888888888,\"#fdca26\"],[1.0,\"#f0f921\"]],\"sequentialminus\":[[0.0,\"#0d0887\"],[0.1111111111111111,\"#46039f\"],[0.2222222222222222,\"#7201a8\"],[0.3333333333333333,\"#9c179e\"],[0.4444444444444444,\"#bd3786\"],[0.5555555555555556,\"#d8576b\"],[0.6666666666666666,\"#ed7953\"],[0.7777777777777778,\"#fb9f3a\"],[0.8888888888888888,\"#fdca26\"],[1.0,\"#f0f921\"]]},\"colorway\":[\"#636efa\",\"#EF553B\",\"#00cc96\",\"#ab63fa\",\"#FFA15A\",\"#19d3f3\",\"#FF6692\",\"#B6E880\",\"#FF97FF\",\"#FECB52\"],\"font\":{\"color\":\"#2a3f5f\"},\"geo\":{\"bgcolor\":\"white\",\"lakecolor\":\"white\",\"landcolor\":\"#E5ECF6\",\"showlakes\":true,\"showland\":true,\"subunitcolor\":\"white\"},\"hoverlabel\":{\"align\":\"left\"},\"hovermode\":\"closest\",\"mapbox\":{\"style\":\"light\"},\"paper_bgcolor\":\"white\",\"plot_bgcolor\":\"#E5ECF6\",\"polar\":{\"angularaxis\":{\"gridcolor\":\"white\",\"linecolor\":\"white\",\"ticks\":\"\"},\"bgcolor\":\"#E5ECF6\",\"radialaxis\":{\"gridcolor\":\"white\",\"linecolor\":\"white\",\"ticks\":\"\"}},\"scene\":{\"xaxis\":{\"backgroundcolor\":\"#E5ECF6\",\"gridcolor\":\"white\",\"gridwidth\":2,\"linecolor\":\"white\",\"showbackground\":true,\"ticks\":\"\",\"zerolinecolor\":\"white\"},\"yaxis\":{\"backgroundcolor\":\"#E5ECF6\",\"gridcolor\":\"white\",\"gridwidth\":2,\"linecolor\":\"white\",\"showbackground\":true,\"ticks\":\"\",\"zerolinecolor\":\"white\"},\"zaxis\":{\"backgroundcolor\":\"#E5ECF6\",\"gridcolor\":\"white\",\"gridwidth\":2,\"linecolor\":\"white\",\"showbackground\":true,\"ticks\":\"\",\"zerolinecolor\":\"white\"}},\"shapedefaults\":{\"line\":{\"color\":\"#2a3f5f\"}},\"ternary\":{\"aaxis\":{\"gridcolor\":\"white\",\"linecolor\":\"white\",\"ticks\":\"\"},\"baxis\":{\"gridcolor\":\"white\",\"linecolor\":\"white\",\"ticks\":\"\"},\"bgcolor\":\"#E5ECF6\",\"caxis\":{\"gridcolor\":\"white\",\"linecolor\":\"white\",\"ticks\":\"\"}},\"title\":{\"x\":0.05},\"xaxis\":{\"automargin\":true,\"gridcolor\":\"white\",\"linecolor\":\"white\",\"ticks\":\"\",\"title\":{\"standoff\":15},\"zerolinecolor\":\"white\",\"zerolinewidth\":2},\"yaxis\":{\"automargin\":true,\"gridcolor\":\"white\",\"linecolor\":\"white\",\"ticks\":\"\",\"title\":{\"standoff\":15},\"zerolinecolor\":\"white\",\"zerolinewidth\":2}}},\"xaxis\":{\"anchor\":\"y\",\"domain\":[0.0,1.0],\"title\":{\"text\":\"Model\"}},\"yaxis\":{\"anchor\":\"x\",\"domain\":[0.0,1.0],\"title\":{\"text\":\"Score\"}},\"legend\":{\"title\":{\"text\":\"Metric\"},\"tracegroupgap\":0},\"title\":{\"text\":\"Performance Metrics Comparison by Model\"},\"barmode\":\"group\"},                        {\"responsive\": true}                    ).then(function(){\n",
       "                            \n",
       "var gd = document.getElementById('4bab0b08-2156-42e1-be53-c10697a4fe66');\n",
       "var x = new MutationObserver(function (mutations, observer) {{\n",
       "        var display = window.getComputedStyle(gd).display;\n",
       "        if (!display || display === 'none') {{\n",
       "            console.log([gd, 'removed!']);\n",
       "            Plotly.purge(gd);\n",
       "            observer.disconnect();\n",
       "        }}\n",
       "}});\n",
       "\n",
       "// Listen for the removal of the full notebook cells\n",
       "var notebookContainer = gd.closest('#notebook-container');\n",
       "if (notebookContainer) {{\n",
       "    x.observe(notebookContainer, {childList: true});\n",
       "}}\n",
       "\n",
       "// Listen for the clearing of the current output cell\n",
       "var outputEl = gd.closest('.output');\n",
       "if (outputEl) {{\n",
       "    x.observe(outputEl, {childList: true});\n",
       "}}\n",
       "\n",
       "                        })                };                });            </script>        </div>"
      ]
     },
     "metadata": {},
     "output_type": "display_data"
    }
   ],
   "source": [
    "import plotly.express as px\n",
    "\n",
    "# Melting the DataFrame to have a tidy format for visualization\n",
    "df_melted = df_sorted.melt(id_vars='Model Name', value_vars=['Accuracy on train data', 'Accuracy on test data',\n",
    "                                                             'Precision on train data', 'Precision on test data',\n",
    "                                                             'Recall on train data', 'Recall on test data',\n",
    "                                                             'F1-score on train data', 'F1-score on test data'],\n",
    "                           var_name='Metric', value_name='Score')\n",
    "\n",
    "# Creating a grouped bar chart\n",
    "fig = px.bar(df_melted, x='Model Name', y='Score', color='Metric',\n",
    "             barmode='group', title='Performance Metrics Comparison by Model',\n",
    "             labels={'Score': 'Score', 'Model Name': 'Model', 'Metric': 'Metric'})\n",
    "\n",
    "fig.show()\n"
   ]
  },
  {
   "cell_type": "markdown",
   "metadata": {},
   "source": [
    "Best performance and accuracy is given by random Forest"
   ]
  },
  {
   "cell_type": "code",
   "execution_count": 56,
   "metadata": {},
   "outputs": [
    {
     "data": {
      "image/png": "[encoded data removed]",
      "text/plain": [
       "<Figure size 864x576 with 1 Axes>"
      ]
     },
     "metadata": {
      "needs_background": "light"
     },
     "output_type": "display_data"
    },
    {
     "data": {
      "image/png": "[encoded data removed]",
      "text/plain": [
       "<Figure size 576x432 with 2 Axes>"
      ]
     },
     "metadata": {
      "needs_background": "light"
     },
     "output_type": "display_data"
    },
    {
     "name": "stdout",
     "output_type": "stream",
     "text": [
      "Fitting 5 folds for each of 81 candidates, totalling 405 fits\n",
      "Best Parameters: {'max_depth': 15, 'min_samples_leaf': 1, 'min_samples_split': 2, 'n_estimators': 100}\n",
      "Best Estimator: RandomForestClassifier(max_depth=15, random_state=42)\n",
      "Best Score: 0.9671376031985839\n"
     ]
    }
   ],
   "source": [
    "# import graphviz\n",
    "from sklearn.model_selection import train_test_split, GridSearchCV\n",
    "rf_model = RandomForestClassifier(n_estimators=10, random_state=42)\n",
    "rf_model.fit(X_train, y_train)\n",
    "\n",
    "# # Visualizing individual decision trees\n",
    "# for i in range(3):  # Visualize first 3 trees\n",
    "#     dot_data = tree.export_graphviz(rf_model.estimators_[i], out_file=None, feature_names=X.columns,\n",
    "#                                     class_names=['Not Churned', 'Churned'], filled=True, rounded=True,\n",
    "#                                     special_characters=True)\n",
    "#     graph = graphviz.Source(dot_data)\n",
    "#     graph.render(f\"rf_tree_{i}\")\n",
    "\n",
    "importances = rf_model.feature_importances_\n",
    "indices = np.argsort(importances)[::-1]\n",
    "#plot\n",
    "plt.figure(figsize=(12, 8))\n",
    "plt.title(\"Feature Importances\")\n",
    "plt.bar(range(X.shape[1]), importances[indices],\n",
    "        color=\"r\", align=\"center\")\n",
    "plt.xticks(range(X.shape[1]), X.columns[indices], rotation=90)\n",
    "plt.xlim([-1, X.shape[1]])\n",
    "plt.show()\n",
    "\n",
    "y_pred = rf_model.predict(X_test)\n",
    "conf_matrix = confusion_matrix(y_test, y_pred)\n",
    "plt.figure(figsize=(8, 6))\n",
    "sns.heatmap(conf_matrix, annot=True, fmt=\"d\", cmap=\"Blues\")\n",
    "plt.title(\"Confusion Matrix\")\n",
    "plt.xlabel(\"Predicted Label\")\n",
    "plt.ylabel(\"True Label\")\n",
    "plt.show()\n",
    "# Grid Search CV for hyperparameter tuning\n",
    "param_grid = {\n",
    "    'n_estimators': [50, 100, 150],\n",
    "    'max_depth': [5, 10, 15],\n",
    "    'min_samples_split': [2, 5, 10],\n",
    "    'min_samples_leaf': [1, 2, 4]\n",
    "}\n",
    "\n",
    "grid_search = GridSearchCV(estimator=rf_model, param_grid=param_grid, cv=5, n_jobs=-1, verbose=2)\n",
    "grid_search.fit(X_train, y_train)\n",
    "\n",
    "print(\"Best Parameters:\", grid_search.best_params_)\n",
    "print(\"Best Estimator:\", grid_search.best_estimator_)\n",
    "print(\"Best Score:\", grid_search.best_score_)"
   ]
  },
  {
   "cell_type": "code",
   "execution_count": 61,
   "metadata": {},
   "outputs": [
    {
     "name": "stdout",
     "output_type": "stream",
     "text": [
      "Fitting 5 folds for each of 81 candidates, totalling 405 fits\n",
      "Fitting 5 folds for each of 9 candidates, totalling 45 fits\n",
      "Random Forest Accuracy: 0.9659942363112392\n",
      "              precision    recall  f1-score   support\n",
      "\n",
      "           0       0.98      0.95      0.97       880\n",
      "           1       0.95      0.98      0.97       855\n",
      "\n",
      "    accuracy                           0.97      1735\n",
      "   macro avg       0.97      0.97      0.97      1735\n",
      "weighted avg       0.97      0.97      0.97      1735\n",
      "\n",
      "Confusion Matrix:\n",
      "[[839  41]\n",
      " [ 18 837]]\n",
      "\n",
      "AdaBoost Accuracy: 0.7832853025936599\n",
      "              precision    recall  f1-score   support\n",
      "\n",
      "           0       0.92      0.63      0.75       880\n",
      "           1       0.71      0.94      0.81       855\n",
      "\n",
      "    accuracy                           0.78      1735\n",
      "   macro avg       0.81      0.79      0.78      1735\n",
      "weighted avg       0.82      0.78      0.78      1735\n",
      "\n",
      "Confusion Matrix:\n",
      "[[555 325]\n",
      " [ 51 804]]\n",
      "\n"
     ]
    }
   ],
   "source": [
    "from sklearn.model_selection import KFold, ShuffleSplit, LeaveOneOut, StratifiedKFold\n",
    "# Define the parameter grid for Random Forest\n",
    "rf_param_grid = {\n",
    "    'n_estimators': [50, 100, 150],  # Number of trees in the forest\n",
    "    'max_depth': [None, 10, 20],      # Maximum depth of the trees\n",
    "    'min_samples_split': [2, 5, 10],  # Minimum number of samples required to split a node\n",
    "    'min_samples_leaf': [1, 2, 4]     # Minimum number of samples required at each leaf node\n",
    "}\n",
    "param_grid = {\n",
    "    'xgb__learning_rate': [0.01, 0.1, 0.2, 0.3],\n",
    "    'xgb__max_depth': [3, 4, 5, 6],\n",
    "    'xgb__subsample': [0.7, 0.8, 0.9, 1.0],\n",
    "    'xgb__colsample_bytree': [0.7, 0.8, 0.9, 1.0],\n",
    "    'xgb__n_estimators': [100, 200, 300, 400],\n",
    "    'xgb__objective': ['binary:logistic']\n",
    "}\n",
    "# Define the parameter grid for AdaBoost\n",
    "adb_param_grid = {\n",
    "    'n_estimators': [50, 100, 150],  # Number of weak learners\n",
    "    'learning_rate': [0.01, 0.1, 1.0] # Learning rate\n",
    "}\n",
    "\n",
    "# Initialize models with default parameters\n",
    "rf_model = RandomForestClassifier()\n",
    "adb_model = AdaBoostClassifier()\n",
    "\n",
    "# Perform grid search for Random Forest\n",
    "# rf_grid_search = GridSearchCV(rf_model, rf_param_grid, cv=, scoring='accuracy')\n",
    "rf_grid_search = GridSearchCV(\n",
    "    estimator=rf_model, \n",
    "    param_grid=rf_param_grid, \n",
    "    cv=StratifiedKFold(n_splits=5, shuffle=True, random_state=42), \n",
    "    n_jobs=-1, \n",
    "    scoring='roc_auc', \n",
    "    verbose=2\n",
    ")\n",
    "rf_grid_search.fit(x_train_scaled, y_train)\n",
    "\n",
    "# Perform grid search for AdaBoost\n",
    "# adb_grid_search = GridSearchCV(adb_model, adb_param_grid, cv=5, scoring='accuracy')\n",
    "adb_grid_search = GridSearchCV(\n",
    "    estimator=adb_model, \n",
    "    param_grid=adb_param_grid, \n",
    "    cv=StratifiedKFold(n_splits=5, shuffle=True, random_state=42), \n",
    "    n_jobs=-1, \n",
    "    scoring='roc_auc', \n",
    "    verbose=2\n",
    ")\n",
    "adb_grid_search.fit(x_train_scaled, y_train)\n",
    "\n",
    "best_rf_params = rf_grid_search.best_params_\n",
    "best_adb_params = adb_grid_search.best_params_\n",
    "\n",
    "rf_model.set_params(**best_rf_params)\n",
    "adb_model.set_params(**best_adb_params)\n",
    "\n",
    "ensemble_models = [\n",
    "    (\"Random Forest\", rf_model),\n",
    "    (\"AdaBoost\", adb_model)\n",
    "]\n",
    "\n",
    "# Train ensemble models\n",
    "for name, model in ensemble_models:\n",
    "    model.fit(x_train_scaled, y_train)\n",
    "    y_pred = model.predict(x_test_scaled)\n",
    "    accuracy = accuracy_score(y_test, y_pred)\n",
    "    print(f\"{name} Accuracy: {accuracy}\")\n",
    "    print(f\"{classification_report(y_test, y_pred)}\")\n",
    "    print(f\"Confusion Matrix:\\n{confusion_matrix(y_test, y_pred)}\\n\")"
   ]
  },
  {
   "cell_type": "code",
   "execution_count": 67,
   "metadata": {},
   "outputs": [
    {
     "data": {
      "image/png": "[encoded data removed]",
      "text/plain": [
       "<Figure size 720x432 with 1 Axes>"
      ]
     },
     "metadata": {
      "needs_background": "light"
     },
     "output_type": "display_data"
    }
   ],
   "source": [
    "import matplotlib.pyplot as plt\n",
    "\n",
    "# Get feature importances for Random Forest and AdaBoost models\n",
    "rf_feature_importances = rf_model.feature_importances_\n",
    "adb_feature_importances = adb_model.feature_importances_\n",
    "\n",
    "feature_names = list(proc_data.columns) \n",
    "\n",
    "num_features = min(len(feature_names), len(rf_feature_importances))\n",
    "\n",
    "plt.figure(figsize=(10, 6))\n",
    "plt.barh(feature_names[:num_features], rf_feature_importances[:num_features])\n",
    "plt.xlabel('Feature Importance')\n",
    "plt.ylabel('Feature')\n",
    "plt.title('Random Forest Feature Importance')\n",
    "plt.gca().invert_yaxis() \n",
    "plt.show()\n",
    "\n"
   ]
  },
  {
   "cell_type": "code",
   "execution_count": null,
   "metadata": {},
   "outputs": [],
   "source": []
  }
 ],
 "metadata": {
  "kernelspec": {
   "display_name": "Python 3 (ipykernel)",
   "language": "python",
   "name": "python3"
  },
  "language_info": {
   "codemirror_mode": {
    "name": "ipython",
    "version": 3
   },
   "file_extension": ".py",
   "mimetype": "text/x-python",
   "name": "python",
   "nbconvert_exporter": "python",
   "pygments_lexer": "ipython3",
   "version": "3.9.12"
  }
 },
 "nbformat": 4,
 "nbformat_minor": 2
}
