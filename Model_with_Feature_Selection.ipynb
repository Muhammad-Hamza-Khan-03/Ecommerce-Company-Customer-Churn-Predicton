{
 "cells": [
  {
   "cell_type": "markdown",
   "metadata": {},
   "source": [
    "# Using Feature Extraction Technique RFECV Reverse Feature Extraction "
   ]
  },
  {
   "cell_type": "code",
   "execution_count": 6,
   "metadata": {},
   "outputs": [],
   "source": [
    "import pandas as pd\n",
    "from sklearn.preprocessing import LabelEncoder\n",
    "from sklearn.preprocessing import StandardScaler\n",
    "from sklearn.model_selection import train_test_split\n",
    "import pandas as pd\n",
    "import numpy as np\n",
    "import seaborn as sns\n",
    "import matplotlib.pyplot as plt\n",
    "%matplotlib inline\n",
    "import matplotlib.pyplot as plt\n",
    "import numpy as np\n",
    "from matplotlib import rcParams\n",
    "from sklearn.naive_bayes import GaussianNB\n",
    "from imblearn.combine import SMOTETomek\n",
    "#Pre-Processing\n",
    "from sklearn.impute import SimpleImputer\n",
    "from sklearn.preprocessing import OneHotEncoder, MinMaxScaler, StandardScaler\n",
    "from sklearn.pipeline import Pipeline\n",
    "from sklearn.model_selection import train_test_split\n",
    "from sklearn.compose import ColumnTransformer\n",
    "from sklearn import tree\n",
    "\n",
    "from sklearn.metrics import accuracy_score, precision_score, recall_score, roc_auc_score, f1_score, balanced_accuracy_score\n",
    "from sklearn.metrics import classification_report,confusion_matrix\n",
    "# from feature_engine.encoding import OneHotEncoder\n",
    "# from feature_engine.encoding import OrdinalEncoder\n",
    "from sklearn.svm import SVC\n",
    "from sklearn.tree import DecisionTreeClassifier\n",
    "#Modeling\n",
    "from sklearn.linear_model import LogisticRegression\n",
    "from sklearn.ensemble import RandomForestClassifier\n",
    "from sklearn.neighbors import KNeighborsClassifier\n",
    "from sklearn.ensemble import AdaBoostClassifier\n",
    "\n",
    "# import catboost as cb\n",
    "# \n",
    "from xgboost import XGBClassifier\n",
    "#Feature Importance\n",
    "# import shap\n",
    "from sklearn.feature_selection import RFECV"
   ]
  },
  {
   "cell_type": "code",
   "execution_count": 3,
   "metadata": {},
   "outputs": [
    {
     "data": {
      "text/html": [
       "<div>\n",
       "<style scoped>\n",
       "    .dataframe tbody tr th:only-of-type {\n",
       "        vertical-align: middle;\n",
       "    }\n",
       "\n",
       "    .dataframe tbody tr th {\n",
       "        vertical-align: top;\n",
       "    }\n",
       "\n",
       "    .dataframe thead th {\n",
       "        text-align: right;\n",
       "    }\n",
       "</style>\n",
       "<table border=\"1\" class=\"dataframe\">\n",
       "  <thead>\n",
       "    <tr style=\"text-align: right;\">\n",
       "      <th></th>\n",
       "      <th>PreferredLoginDevice</th>\n",
       "      <th>PreferredPaymentMode</th>\n",
       "      <th>PreferedOrderCat</th>\n",
       "      <th>MaritalStatus</th>\n",
       "      <th>Tenure</th>\n",
       "      <th>WarehouseToHome</th>\n",
       "      <th>HourSpendOnApp</th>\n",
       "      <th>NumberOfDeviceRegistered</th>\n",
       "      <th>SatisfactionScore</th>\n",
       "      <th>NumberOfAddress</th>\n",
       "      <th>OrderAmountHikeFromlastYear</th>\n",
       "      <th>CouponUsed</th>\n",
       "      <th>OrderCount</th>\n",
       "      <th>DaySinceLastOrder</th>\n",
       "      <th>CashbackAmount</th>\n",
       "      <th>Churn</th>\n",
       "    </tr>\n",
       "  </thead>\n",
       "  <tbody>\n",
       "    <tr>\n",
       "      <th>0</th>\n",
       "      <td>1</td>\n",
       "      <td>4</td>\n",
       "      <td>2</td>\n",
       "      <td>2</td>\n",
       "      <td>4.0</td>\n",
       "      <td>6.0</td>\n",
       "      <td>3.0</td>\n",
       "      <td>3</td>\n",
       "      <td>2</td>\n",
       "      <td>9</td>\n",
       "      <td>11.0</td>\n",
       "      <td>1.0</td>\n",
       "      <td>1.0</td>\n",
       "      <td>5.0</td>\n",
       "      <td>159.93</td>\n",
       "      <td>1</td>\n",
       "    </tr>\n",
       "    <tr>\n",
       "      <th>1</th>\n",
       "      <td>2</td>\n",
       "      <td>4</td>\n",
       "      <td>2</td>\n",
       "      <td>2</td>\n",
       "      <td>0.0</td>\n",
       "      <td>15.0</td>\n",
       "      <td>2.0</td>\n",
       "      <td>4</td>\n",
       "      <td>5</td>\n",
       "      <td>8</td>\n",
       "      <td>23.0</td>\n",
       "      <td>0.0</td>\n",
       "      <td>1.0</td>\n",
       "      <td>3.0</td>\n",
       "      <td>134.07</td>\n",
       "      <td>1</td>\n",
       "    </tr>\n",
       "    <tr>\n",
       "      <th>2</th>\n",
       "      <td>0</td>\n",
       "      <td>4</td>\n",
       "      <td>4</td>\n",
       "      <td>2</td>\n",
       "      <td>0.0</td>\n",
       "      <td>22.0</td>\n",
       "      <td>3.0</td>\n",
       "      <td>5</td>\n",
       "      <td>5</td>\n",
       "      <td>2</td>\n",
       "      <td>22.0</td>\n",
       "      <td>4.0</td>\n",
       "      <td>6.0</td>\n",
       "      <td>7.0</td>\n",
       "      <td>139.19</td>\n",
       "      <td>1</td>\n",
       "    </tr>\n",
       "    <tr>\n",
       "      <th>3</th>\n",
       "      <td>1</td>\n",
       "      <td>4</td>\n",
       "      <td>0</td>\n",
       "      <td>2</td>\n",
       "      <td>11.0</td>\n",
       "      <td>6.0</td>\n",
       "      <td>3.0</td>\n",
       "      <td>4</td>\n",
       "      <td>3</td>\n",
       "      <td>10</td>\n",
       "      <td>13.0</td>\n",
       "      <td>0.0</td>\n",
       "      <td>1.0</td>\n",
       "      <td>0.0</td>\n",
       "      <td>153.81</td>\n",
       "      <td>1</td>\n",
       "    </tr>\n",
       "    <tr>\n",
       "      <th>4</th>\n",
       "      <td>2</td>\n",
       "      <td>1</td>\n",
       "      <td>3</td>\n",
       "      <td>2</td>\n",
       "      <td>0.0</td>\n",
       "      <td>11.0</td>\n",
       "      <td>2.0</td>\n",
       "      <td>3</td>\n",
       "      <td>3</td>\n",
       "      <td>2</td>\n",
       "      <td>13.0</td>\n",
       "      <td>2.0</td>\n",
       "      <td>2.0</td>\n",
       "      <td>2.0</td>\n",
       "      <td>134.41</td>\n",
       "      <td>1</td>\n",
       "    </tr>\n",
       "  </tbody>\n",
       "</table>\n",
       "</div>"
      ],
      "text/plain": [
       "   PreferredLoginDevice  PreferredPaymentMode  PreferedOrderCat  \\\n",
       "0                     1                     4                 2   \n",
       "1                     2                     4                 2   \n",
       "2                     0                     4                 4   \n",
       "3                     1                     4                 0   \n",
       "4                     2                     1                 3   \n",
       "\n",
       "   MaritalStatus  Tenure  WarehouseToHome  HourSpendOnApp  \\\n",
       "0              2     4.0              6.0             3.0   \n",
       "1              2     0.0             15.0             2.0   \n",
       "2              2     0.0             22.0             3.0   \n",
       "3              2    11.0              6.0             3.0   \n",
       "4              2     0.0             11.0             2.0   \n",
       "\n",
       "   NumberOfDeviceRegistered  SatisfactionScore  NumberOfAddress  \\\n",
       "0                         3                  2                9   \n",
       "1                         4                  5                8   \n",
       "2                         5                  5                2   \n",
       "3                         4                  3               10   \n",
       "4                         3                  3                2   \n",
       "\n",
       "   OrderAmountHikeFromlastYear  CouponUsed  OrderCount  DaySinceLastOrder  \\\n",
       "0                         11.0         1.0         1.0                5.0   \n",
       "1                         23.0         0.0         1.0                3.0   \n",
       "2                         22.0         4.0         6.0                7.0   \n",
       "3                         13.0         0.0         1.0                0.0   \n",
       "4                         13.0         2.0         2.0                2.0   \n",
       "\n",
       "   CashbackAmount  Churn  \n",
       "0          159.93      1  \n",
       "1          134.07      1  \n",
       "2          139.19      1  \n",
       "3          153.81      1  \n",
       "4          134.41      1  "
      ]
     },
     "execution_count": 3,
     "metadata": {},
     "output_type": "execute_result"
    }
   ],
   "source": [
    "#Dataset\n",
    "proc_data = pd.read_csv(\"resampled_data.csv\")\n",
    "proc_data.head()"
   ]
  },
  {
   "cell_type": "code",
   "execution_count": 7,
   "metadata": {},
   "outputs": [
    {
     "name": "stdout",
     "output_type": "stream",
     "text": [
      "Accuracy: 0.975792507204611\n"
     ]
    }
   ],
   "source": [
    "\n",
    "y = proc_data['Churn']\n",
    "X = proc_data.drop(['Churn'], axis=1)\n",
    "\n",
    "X_train, X_test, y_train, y_test = train_test_split(X, y, test_size=0.30,random_state=42)\n",
    "\n",
    "# Initialize RandomForestClassifier\n",
    "clf = RandomForestClassifier()\n",
    "\n",
    "# Initialize RFECV\n",
    "rfecv = RFECV(estimator=clf, step=1, cv=5, scoring='accuracy')\n",
    "\n",
    "# Fit RFECV on training data\n",
    "rfecv.fit(X_train, y_train)\n",
    "\n",
    "# Get selected features\n",
    "selected_features = X_train.columns[rfecv.support_]\n",
    "\n",
    "# Transform X_train and X_test based on selected features\n",
    "X_train_selected = rfecv.transform(X_train)\n",
    "X_test_selected = rfecv.transform(X_test)\n",
    "\n",
    "# Train RandomForestClassifier on selected features\n",
    "clf.fit(X_train_selected, y_train)\n",
    "\n",
    "# Predict on test set\n",
    "y_pred = clf.predict(X_test_selected)\n",
    "\n",
    "# Calculate accuracy\n",
    "accuracy = accuracy_score(y_test, y_pred)\n",
    "print(\"Accuracy:\", accuracy)"
   ]
  },
  {
   "cell_type": "code",
   "execution_count": 33,
   "metadata": {},
   "outputs": [
    {
     "name": "stdout",
     "output_type": "stream",
     "text": [
      "Optimal number of features: 14\n"
     ]
    }
   ],
   "source": [
    "print(\"Optimal number of features:\", rfecv.n_features_)"
   ]
  },
  {
   "cell_type": "markdown",
   "metadata": {},
   "source": [
    "## Columns selected"
   ]
  },
  {
   "cell_type": "code",
   "execution_count": 34,
   "metadata": {},
   "outputs": [
    {
     "name": "stdout",
     "output_type": "stream",
     "text": [
      "Selected features: Index(['PreferredLoginDevice', 'PreferredPaymentMode', 'PreferedOrderCat',\n",
      "       'Tenure', 'WarehouseToHome', 'HourSpendOnApp',\n",
      "       'NumberOfDeviceRegistered', 'SatisfactionScore', 'NumberOfAddress',\n",
      "       'OrderAmountHikeFromlastYear', 'CouponUsed', 'OrderCount',\n",
      "       'DaySinceLastOrder', 'CashbackAmount'],\n",
      "      dtype='object')\n"
     ]
    }
   ],
   "source": [
    "print(\"Selected features:\", X.columns[rfecv.support_])"
   ]
  },
  {
   "cell_type": "code",
   "execution_count": 10,
   "metadata": {},
   "outputs": [
    {
     "name": "stdout",
     "output_type": "stream",
     "text": [
      "{'Model Name': 'Logistic Regression', 'Accuracy on train data': 0.7771188534717074, 'Accuracy on test data': 0.7769452449567723, 'Precision on train data': 0.7524487978628673, 'Precision on test data': 0.7510729613733905, 'Recall on train data': 0.8300589390962672, 'Recall on test data': 0.8187134502923976, 'F1-score on train data': 0.7893507706679123, 'F1-score on test data': 0.7834359261331839, 'Confusion Matrix on train data': array([[1455,  556],\n",
      "       [ 346, 1690]], dtype=int64), 'Confusion Matrix on test data': array([[648, 232],\n",
      "       [155, 700]], dtype=int64)}\n",
      "\n",
      "{'Model Name': 'SVM', 'Accuracy on train data': 0.7521620953792933, 'Accuracy on test data': 0.7510086455331412, 'Precision on train data': 0.7136946628051303, 'Precision on test data': 0.7112887112887113, 'Recall on train data': 0.8472495088408645, 'Recall on test data': 0.8327485380116959, 'F1-score on train data': 0.7747585897147988, 'F1-score on test data': 0.7672413793103448, 'Confusion Matrix on train data': array([[1319,  692],\n",
      "       [ 311, 1725]], dtype=int64), 'Confusion Matrix on test data': array([[591, 289],\n",
      "       [143, 712]], dtype=int64)}\n",
      "\n",
      "{'Model Name': 'Random Forest', 'Accuracy on train data': 1.0, 'Accuracy on test data': 0.9752161383285303, 'Precision on train data': 1.0, 'Precision on test data': 0.9709976798143851, 'Recall on train data': 1.0, 'Recall on test data': 0.9789473684210527, 'F1-score on train data': 1.0, 'F1-score on test data': 0.9749563191613279, 'Confusion Matrix on train data': array([[2011,    0],\n",
      "       [   0, 2036]], dtype=int64), 'Confusion Matrix on test data': array([[855,  25],\n",
      "       [ 18, 837]], dtype=int64)}\n",
      "\n",
      "{'Model Name': 'K Nearest Neighbor', 'Accuracy on train data': 0.924141339263652, 'Accuracy on test data': 0.8979827089337176, 'Precision on train data': 0.8718279569892473, 'Precision on test data': 0.8323529411764706, 'Recall on train data': 0.9955795677799607, 'Recall on test data': 0.9929824561403509, 'F1-score on train data': 0.9296033019949552, 'F1-score on test data': 0.9056, 'Confusion Matrix on train data': array([[1713,  298],\n",
      "       [   9, 2027]], dtype=int64), 'Confusion Matrix on test data': array([[709, 171],\n",
      "       [  6, 849]], dtype=int64)}\n",
      "\n",
      "{'Model Name': 'Decision Tree', 'Accuracy on train data': 1.0, 'Accuracy on test data': 0.9446685878962536, 'Precision on train data': 1.0, 'Precision on test data': 0.9428238039673279, 'Recall on train data': 1.0, 'Recall on test data': 0.9450292397660819, 'F1-score on train data': 1.0, 'F1-score on test data': 0.9439252336448599, 'Confusion Matrix on train data': array([[2011,    0],\n",
      "       [   0, 2036]], dtype=int64), 'Confusion Matrix on test data': array([[831,  49],\n",
      "       [ 47, 808]], dtype=int64)}\n",
      "\n",
      "{'Model Name': 'AdaBoost Classifier', 'Accuracy on train data': 0.8848529775142081, 'Accuracy on test data': 0.8801152737752161, 'Precision on train data': 0.8818093385214008, 'Precision on test data': 0.8864994026284349, 'Recall on train data': 0.8904715127701375, 'Recall on test data': 0.8678362573099415, 'F1-score on train data': 0.8861192570869989, 'F1-score on test data': 0.8770685579196218, 'Confusion Matrix on train data': array([[1768,  243],\n",
      "       [ 223, 1813]], dtype=int64), 'Confusion Matrix on test data': array([[785,  95],\n",
      "       [113, 742]], dtype=int64)}\n",
      "\n",
      "{'Model Name': 'XG boost', 'Accuracy on train data': 1.0, 'Accuracy on test data': 0.9775216138328531, 'Precision on train data': 1.0, 'Precision on test data': 0.98, 'Recall on train data': 1.0, 'Recall on test data': 0.9742690058479532, 'F1-score on train data': 1.0, 'F1-score on test data': 0.9771260997067448, 'Confusion Matrix on train data': array([[2011,    0],\n",
      "       [   0, 2036]], dtype=int64), 'Confusion Matrix on test data': array([[863,  17],\n",
      "       [ 22, 833]], dtype=int64)}\n",
      "\n",
      "{'Model Name': 'GaussianNB', 'Accuracy on train data': 0.7062021250308871, 'Accuracy on test data': 0.7095100864553314, 'Precision on train data': 0.6830955469087765, 'Precision on test data': 0.6830031282586028, 'Recall on train data': 0.7760314341846758, 'Recall on test data': 0.7660818713450293, 'F1-score on train data': 0.7266038169694183, 'F1-score on test data': 0.7221609702315326, 'Confusion Matrix on train data': array([[1278,  733],\n",
      "       [ 456, 1580]], dtype=int64), 'Confusion Matrix on test data': array([[576, 304],\n",
      "       [200, 655]], dtype=int64)}\n",
      "\n"
     ]
    }
   ],
   "source": [
    "\n",
    "# Models\n",
    "models = {\n",
    "    'Logistic Regression': LogisticRegression(max_iter=1000),\n",
    "    'SVM': SVC(),\n",
    "    'Random Forest': RandomForestClassifier(),\n",
    "    'K Nearest Neighbor': KNeighborsClassifier(),\n",
    "    'Decision Tree': DecisionTreeClassifier(),\n",
    "    'AdaBoost Classifier': AdaBoostClassifier(),\n",
    "    'XG boost': XGBClassifier(),\n",
    "    'GaussianNB': GaussianNB()\n",
    "}\n",
    "\n",
    "# # Train and evaluate models on selected features\n",
    "# for name, model in models.items():\n",
    "#     # Train model\n",
    "#     model.fit(X_train_selected, y_train)\n",
    "    \n",
    "#     # Predict on test set\n",
    "#     y_pred = model.predict(X_test_selected)\n",
    "    \n",
    "#     # Calculate accuracy\n",
    "#     accuracy = accuracy_score(y_test, y_pred)\n",
    "#     print(f\"{name} Accuracy: {accuracy}\")\n",
    "evaluation_metrics = []\n",
    "\n",
    "for model_name, model in models.items():\n",
    "    model.fit(X_train_selected, y_train)\n",
    "\n",
    "    y_pred_train = model.predict(X_train_selected)\n",
    "    y_pred_test = model.predict(X_test_selected)\n",
    "\n",
    "    metrics_dict = {\n",
    "        'Model Name': model_name,\n",
    "        'Accuracy on train data': accuracy_score(y_train, y_pred_train),\n",
    "        'Accuracy on test data': accuracy_score(y_test, y_pred_test),\n",
    "        'Precision on train data': precision_score(y_train, y_pred_train),\n",
    "        'Precision on test data': precision_score(y_test, y_pred_test),\n",
    "        'Recall on train data': recall_score(y_train, y_pred_train),\n",
    "        'Recall on test data': recall_score(y_test, y_pred_test),\n",
    "        'F1-score on train data': f1_score(y_train, y_pred_train),\n",
    "        'F1-score on test data': f1_score(y_test, y_pred_test),\n",
    "        'Confusion Matrix on train data': confusion_matrix(y_train, y_pred_train),\n",
    "        'Confusion Matrix on test data': confusion_matrix(y_test, y_pred_test)\n",
    "    }\n",
    "\n",
    "    evaluation_metrics.append(metrics_dict)\n",
    "\n",
    "for metrics in evaluation_metrics:\n",
    "    print(metrics)\n",
    "    print()"
   ]
  },
  {
   "cell_type": "code",
   "execution_count": 11,
   "metadata": {},
   "outputs": [
    {
     "data": {
      "text/html": [
       "<div>\n",
       "<style scoped>\n",
       "    .dataframe tbody tr th:only-of-type {\n",
       "        vertical-align: middle;\n",
       "    }\n",
       "\n",
       "    .dataframe tbody tr th {\n",
       "        vertical-align: top;\n",
       "    }\n",
       "\n",
       "    .dataframe thead th {\n",
       "        text-align: right;\n",
       "    }\n",
       "</style>\n",
       "<table border=\"1\" class=\"dataframe\">\n",
       "  <thead>\n",
       "    <tr style=\"text-align: right;\">\n",
       "      <th></th>\n",
       "      <th>Model Name</th>\n",
       "      <th>Accuracy on train data</th>\n",
       "      <th>Accuracy on test data</th>\n",
       "      <th>Precision on train data</th>\n",
       "      <th>Precision on test data</th>\n",
       "      <th>Recall on train data</th>\n",
       "      <th>Recall on test data</th>\n",
       "      <th>F1-score on train data</th>\n",
       "      <th>F1-score on test data</th>\n",
       "      <th>Confusion Matrix on train data</th>\n",
       "      <th>Confusion Matrix on test data</th>\n",
       "    </tr>\n",
       "  </thead>\n",
       "  <tbody>\n",
       "    <tr>\n",
       "      <th>0</th>\n",
       "      <td>Logistic Regression</td>\n",
       "      <td>0.777119</td>\n",
       "      <td>0.776945</td>\n",
       "      <td>0.752449</td>\n",
       "      <td>0.751073</td>\n",
       "      <td>0.830059</td>\n",
       "      <td>0.818713</td>\n",
       "      <td>0.789351</td>\n",
       "      <td>0.783436</td>\n",
       "      <td>[[1455, 556], [346, 1690]]</td>\n",
       "      <td>[[648, 232], [155, 700]]</td>\n",
       "    </tr>\n",
       "    <tr>\n",
       "      <th>1</th>\n",
       "      <td>SVM</td>\n",
       "      <td>0.752162</td>\n",
       "      <td>0.751009</td>\n",
       "      <td>0.713695</td>\n",
       "      <td>0.711289</td>\n",
       "      <td>0.847250</td>\n",
       "      <td>0.832749</td>\n",
       "      <td>0.774759</td>\n",
       "      <td>0.767241</td>\n",
       "      <td>[[1319, 692], [311, 1725]]</td>\n",
       "      <td>[[591, 289], [143, 712]]</td>\n",
       "    </tr>\n",
       "    <tr>\n",
       "      <th>2</th>\n",
       "      <td>Random Forest</td>\n",
       "      <td>1.000000</td>\n",
       "      <td>0.975216</td>\n",
       "      <td>1.000000</td>\n",
       "      <td>0.970998</td>\n",
       "      <td>1.000000</td>\n",
       "      <td>0.978947</td>\n",
       "      <td>1.000000</td>\n",
       "      <td>0.974956</td>\n",
       "      <td>[[2011, 0], [0, 2036]]</td>\n",
       "      <td>[[855, 25], [18, 837]]</td>\n",
       "    </tr>\n",
       "    <tr>\n",
       "      <th>3</th>\n",
       "      <td>K Nearest Neighbor</td>\n",
       "      <td>0.924141</td>\n",
       "      <td>0.897983</td>\n",
       "      <td>0.871828</td>\n",
       "      <td>0.832353</td>\n",
       "      <td>0.995580</td>\n",
       "      <td>0.992982</td>\n",
       "      <td>0.929603</td>\n",
       "      <td>0.905600</td>\n",
       "      <td>[[1713, 298], [9, 2027]]</td>\n",
       "      <td>[[709, 171], [6, 849]]</td>\n",
       "    </tr>\n",
       "    <tr>\n",
       "      <th>4</th>\n",
       "      <td>Decision Tree</td>\n",
       "      <td>1.000000</td>\n",
       "      <td>0.944669</td>\n",
       "      <td>1.000000</td>\n",
       "      <td>0.942824</td>\n",
       "      <td>1.000000</td>\n",
       "      <td>0.945029</td>\n",
       "      <td>1.000000</td>\n",
       "      <td>0.943925</td>\n",
       "      <td>[[2011, 0], [0, 2036]]</td>\n",
       "      <td>[[831, 49], [47, 808]]</td>\n",
       "    </tr>\n",
       "    <tr>\n",
       "      <th>5</th>\n",
       "      <td>AdaBoost Classifier</td>\n",
       "      <td>0.884853</td>\n",
       "      <td>0.880115</td>\n",
       "      <td>0.881809</td>\n",
       "      <td>0.886499</td>\n",
       "      <td>0.890472</td>\n",
       "      <td>0.867836</td>\n",
       "      <td>0.886119</td>\n",
       "      <td>0.877069</td>\n",
       "      <td>[[1768, 243], [223, 1813]]</td>\n",
       "      <td>[[785, 95], [113, 742]]</td>\n",
       "    </tr>\n",
       "    <tr>\n",
       "      <th>6</th>\n",
       "      <td>XG boost</td>\n",
       "      <td>1.000000</td>\n",
       "      <td>0.977522</td>\n",
       "      <td>1.000000</td>\n",
       "      <td>0.980000</td>\n",
       "      <td>1.000000</td>\n",
       "      <td>0.974269</td>\n",
       "      <td>1.000000</td>\n",
       "      <td>0.977126</td>\n",
       "      <td>[[2011, 0], [0, 2036]]</td>\n",
       "      <td>[[863, 17], [22, 833]]</td>\n",
       "    </tr>\n",
       "    <tr>\n",
       "      <th>7</th>\n",
       "      <td>GaussianNB</td>\n",
       "      <td>0.706202</td>\n",
       "      <td>0.709510</td>\n",
       "      <td>0.683096</td>\n",
       "      <td>0.683003</td>\n",
       "      <td>0.776031</td>\n",
       "      <td>0.766082</td>\n",
       "      <td>0.726604</td>\n",
       "      <td>0.722161</td>\n",
       "      <td>[[1278, 733], [456, 1580]]</td>\n",
       "      <td>[[576, 304], [200, 655]]</td>\n",
       "    </tr>\n",
       "  </tbody>\n",
       "</table>\n",
       "</div>"
      ],
      "text/plain": [
       "            Model Name  Accuracy on train data  Accuracy on test data  \\\n",
       "0  Logistic Regression                0.777119               0.776945   \n",
       "1                  SVM                0.752162               0.751009   \n",
       "2        Random Forest                1.000000               0.975216   \n",
       "3   K Nearest Neighbor                0.924141               0.897983   \n",
       "4        Decision Tree                1.000000               0.944669   \n",
       "5  AdaBoost Classifier                0.884853               0.880115   \n",
       "6             XG boost                1.000000               0.977522   \n",
       "7           GaussianNB                0.706202               0.709510   \n",
       "\n",
       "   Precision on train data  Precision on test data  Recall on train data  \\\n",
       "0                 0.752449                0.751073              0.830059   \n",
       "1                 0.713695                0.711289              0.847250   \n",
       "2                 1.000000                0.970998              1.000000   \n",
       "3                 0.871828                0.832353              0.995580   \n",
       "4                 1.000000                0.942824              1.000000   \n",
       "5                 0.881809                0.886499              0.890472   \n",
       "6                 1.000000                0.980000              1.000000   \n",
       "7                 0.683096                0.683003              0.776031   \n",
       "\n",
       "   Recall on test data  F1-score on train data  F1-score on test data  \\\n",
       "0             0.818713                0.789351               0.783436   \n",
       "1             0.832749                0.774759               0.767241   \n",
       "2             0.978947                1.000000               0.974956   \n",
       "3             0.992982                0.929603               0.905600   \n",
       "4             0.945029                1.000000               0.943925   \n",
       "5             0.867836                0.886119               0.877069   \n",
       "6             0.974269                1.000000               0.977126   \n",
       "7             0.766082                0.726604               0.722161   \n",
       "\n",
       "  Confusion Matrix on train data Confusion Matrix on test data  \n",
       "0     [[1455, 556], [346, 1690]]      [[648, 232], [155, 700]]  \n",
       "1     [[1319, 692], [311, 1725]]      [[591, 289], [143, 712]]  \n",
       "2         [[2011, 0], [0, 2036]]        [[855, 25], [18, 837]]  \n",
       "3       [[1713, 298], [9, 2027]]        [[709, 171], [6, 849]]  \n",
       "4         [[2011, 0], [0, 2036]]        [[831, 49], [47, 808]]  \n",
       "5     [[1768, 243], [223, 1813]]       [[785, 95], [113, 742]]  \n",
       "6         [[2011, 0], [0, 2036]]        [[863, 17], [22, 833]]  \n",
       "7     [[1278, 733], [456, 1580]]      [[576, 304], [200, 655]]  "
      ]
     },
     "execution_count": 11,
     "metadata": {},
     "output_type": "execute_result"
    }
   ],
   "source": [
    "Evaluation_df = pd.DataFrame(evaluation_metrics)\n",
    "Evaluation_df"
   ]
  },
  {
   "cell_type": "code",
   "execution_count": 12,
   "metadata": {},
   "outputs": [
    {
     "name": "stdout",
     "output_type": "stream",
     "text": [
      "            Model Name  Accuracy on test data\n",
      "6             XG boost               0.977522\n",
      "2        Random Forest               0.975216\n",
      "4        Decision Tree               0.944669\n",
      "3   K Nearest Neighbor               0.897983\n",
      "5  AdaBoost Classifier               0.880115\n",
      "0  Logistic Regression               0.776945\n",
      "1                  SVM               0.751009\n",
      "7           GaussianNB               0.709510\n"
     ]
    }
   ],
   "source": [
    "df_sorted = Evaluation_df.sort_values(by='Accuracy on test data', ascending=False)\n",
    "print(df_sorted[['Model Name', 'Accuracy on test data']])"
   ]
  },
  {
   "cell_type": "code",
   "execution_count": 13,
   "metadata": {},
   "outputs": [
    {
     "data": {
      "application/vnd.plotly.v1+json": {
       "config": {
        "plotlyServerURL": "https://plot.ly"
       },
       "data": [
        {
         "alignmentgroup": "True",
         "hovertemplate": "Metric=Accuracy on train data<br>Model=%{x}<br>Score=%{y}<extra></extra>",
         "legendgroup": "Accuracy on train data",
         "marker": {
          "color": "#636efa",
          "pattern": {
           "shape": ""
          }
         },
         "name": "Accuracy on train data",
         "offsetgroup": "Accuracy on train data",
         "orientation": "v",
         "showlegend": true,
         "textposition": "auto",
         "type": "bar",
         "x": [
          "XG boost",
          "Random Forest",
          "Decision Tree",
          "K Nearest Neighbor",
          "AdaBoost Classifier",
          "Logistic Regression",
          "SVM",
          "GaussianNB"
         ],
         "xaxis": "x",
         "y": [
          1,
          1,
          1,
          0.924141339263652,
          0.8848529775142081,
          0.7771188534717074,
          0.7521620953792933,
          0.7062021250308871
         ],
         "yaxis": "y"
        },
        {
         "alignmentgroup": "True",
         "hovertemplate": "Metric=Accuracy on test data<br>Model=%{x}<br>Score=%{y}<extra></extra>",
         "legendgroup": "Accuracy on test data",
         "marker": {
          "color": "#EF553B",
          "pattern": {
           "shape": ""
          }
         },
         "name": "Accuracy on test data",
         "offsetgroup": "Accuracy on test data",
         "orientation": "v",
         "showlegend": true,
         "textposition": "auto",
         "type": "bar",
         "x": [
          "XG boost",
          "Random Forest",
          "Decision Tree",
          "K Nearest Neighbor",
          "AdaBoost Classifier",
          "Logistic Regression",
          "SVM",
          "GaussianNB"
         ],
         "xaxis": "x",
         "y": [
          0.9775216138328531,
          0.9752161383285303,
          0.9446685878962536,
          0.8979827089337176,
          0.8801152737752161,
          0.7769452449567723,
          0.7510086455331412,
          0.7095100864553314
         ],
         "yaxis": "y"
        },
        {
         "alignmentgroup": "True",
         "hovertemplate": "Metric=Precision on train data<br>Model=%{x}<br>Score=%{y}<extra></extra>",
         "legendgroup": "Precision on train data",
         "marker": {
          "color": "#00cc96",
          "pattern": {
           "shape": ""
          }
         },
         "name": "Precision on train data",
         "offsetgroup": "Precision on train data",
         "orientation": "v",
         "showlegend": true,
         "textposition": "auto",
         "type": "bar",
         "x": [
          "XG boost",
          "Random Forest",
          "Decision Tree",
          "K Nearest Neighbor",
          "AdaBoost Classifier",
          "Logistic Regression",
          "SVM",
          "GaussianNB"
         ],
         "xaxis": "x",
         "y": [
          1,
          1,
          1,
          0.8718279569892473,
          0.8818093385214008,
          0.7524487978628673,
          0.7136946628051303,
          0.6830955469087765
         ],
         "yaxis": "y"
        },
        {
         "alignmentgroup": "True",
         "hovertemplate": "Metric=Precision on test data<br>Model=%{x}<br>Score=%{y}<extra></extra>",
         "legendgroup": "Precision on test data",
         "marker": {
          "color": "#ab63fa",
          "pattern": {
           "shape": ""
          }
         },
         "name": "Precision on test data",
         "offsetgroup": "Precision on test data",
         "orientation": "v",
         "showlegend": true,
         "textposition": "auto",
         "type": "bar",
         "x": [
          "XG boost",
          "Random Forest",
          "Decision Tree",
          "K Nearest Neighbor",
          "AdaBoost Classifier",
          "Logistic Regression",
          "SVM",
          "GaussianNB"
         ],
         "xaxis": "x",
         "y": [
          0.98,
          0.9709976798143851,
          0.9428238039673279,
          0.8323529411764706,
          0.8864994026284349,
          0.7510729613733905,
          0.7112887112887113,
          0.6830031282586028
         ],
         "yaxis": "y"
        },
        {
         "alignmentgroup": "True",
         "hovertemplate": "Metric=Recall on train data<br>Model=%{x}<br>Score=%{y}<extra></extra>",
         "legendgroup": "Recall on train data",
         "marker": {
          "color": "#FFA15A",
          "pattern": {
           "shape": ""
          }
         },
         "name": "Recall on train data",
         "offsetgroup": "Recall on train data",
         "orientation": "v",
         "showlegend": true,
         "textposition": "auto",
         "type": "bar",
         "x": [
          "XG boost",
          "Random Forest",
          "Decision Tree",
          "K Nearest Neighbor",
          "AdaBoost Classifier",
          "Logistic Regression",
          "SVM",
          "GaussianNB"
         ],
         "xaxis": "x",
         "y": [
          1,
          1,
          1,
          0.9955795677799607,
          0.8904715127701375,
          0.8300589390962672,
          0.8472495088408645,
          0.7760314341846758
         ],
         "yaxis": "y"
        },
        {
         "alignmentgroup": "True",
         "hovertemplate": "Metric=Recall on test data<br>Model=%{x}<br>Score=%{y}<extra></extra>",
         "legendgroup": "Recall on test data",
         "marker": {
          "color": "#19d3f3",
          "pattern": {
           "shape": ""
          }
         },
         "name": "Recall on test data",
         "offsetgroup": "Recall on test data",
         "orientation": "v",
         "showlegend": true,
         "textposition": "auto",
         "type": "bar",
         "x": [
          "XG boost",
          "Random Forest",
          "Decision Tree",
          "K Nearest Neighbor",
          "AdaBoost Classifier",
          "Logistic Regression",
          "SVM",
          "GaussianNB"
         ],
         "xaxis": "x",
         "y": [
          0.9742690058479532,
          0.9789473684210527,
          0.9450292397660819,
          0.9929824561403509,
          0.8678362573099415,
          0.8187134502923976,
          0.8327485380116959,
          0.7660818713450293
         ],
         "yaxis": "y"
        },
        {
         "alignmentgroup": "True",
         "hovertemplate": "Metric=F1-score on train data<br>Model=%{x}<br>Score=%{y}<extra></extra>",
         "legendgroup": "F1-score on train data",
         "marker": {
          "color": "#FF6692",
          "pattern": {
           "shape": ""
          }
         },
         "name": "F1-score on train data",
         "offsetgroup": "F1-score on train data",
         "orientation": "v",
         "showlegend": true,
         "textposition": "auto",
         "type": "bar",
         "x": [
          "XG boost",
          "Random Forest",
          "Decision Tree",
          "K Nearest Neighbor",
          "AdaBoost Classifier",
          "Logistic Regression",
          "SVM",
          "GaussianNB"
         ],
         "xaxis": "x",
         "y": [
          1,
          1,
          1,
          0.9296033019949552,
          0.8861192570869989,
          0.7893507706679123,
          0.7747585897147988,
          0.7266038169694183
         ],
         "yaxis": "y"
        },
        {
         "alignmentgroup": "True",
         "hovertemplate": "Metric=F1-score on test data<br>Model=%{x}<br>Score=%{y}<extra></extra>",
         "legendgroup": "F1-score on test data",
         "marker": {
          "color": "#B6E880",
          "pattern": {
           "shape": ""
          }
         },
         "name": "F1-score on test data",
         "offsetgroup": "F1-score on test data",
         "orientation": "v",
         "showlegend": true,
         "textposition": "auto",
         "type": "bar",
         "x": [
          "XG boost",
          "Random Forest",
          "Decision Tree",
          "K Nearest Neighbor",
          "AdaBoost Classifier",
          "Logistic Regression",
          "SVM",
          "GaussianNB"
         ],
         "xaxis": "x",
         "y": [
          0.9771260997067448,
          0.9749563191613279,
          0.9439252336448599,
          0.9056,
          0.8770685579196218,
          0.7834359261331839,
          0.7672413793103448,
          0.7221609702315326
         ],
         "yaxis": "y"
        }
       ],
       "layout": {
        "barmode": "group",
        "legend": {
         "title": {
          "text": "Metric"
         },
         "tracegroupgap": 0
        },
        "template": {
         "data": {
          "bar": [
           {
            "error_x": {
             "color": "#2a3f5f"
            },
            "error_y": {
             "color": "#2a3f5f"
            },
            "marker": {
             "line": {
              "color": "#E5ECF6",
              "width": 0.5
             },
             "pattern": {
              "fillmode": "overlay",
              "size": 10,
              "solidity": 0.2
             }
            },
            "type": "bar"
           }
          ],
          "barpolar": [
           {
            "marker": {
             "line": {
              "color": "#E5ECF6",
              "width": 0.5
             },
             "pattern": {
              "fillmode": "overlay",
              "size": 10,
              "solidity": 0.2
             }
            },
            "type": "barpolar"
           }
          ],
          "carpet": [
           {
            "aaxis": {
             "endlinecolor": "#2a3f5f",
             "gridcolor": "white",
             "linecolor": "white",
             "minorgridcolor": "white",
             "startlinecolor": "#2a3f5f"
            },
            "baxis": {
             "endlinecolor": "#2a3f5f",
             "gridcolor": "white",
             "linecolor": "white",
             "minorgridcolor": "white",
             "startlinecolor": "#2a3f5f"
            },
            "type": "carpet"
           }
          ],
          "choropleth": [
           {
            "colorbar": {
             "outlinewidth": 0,
             "ticks": ""
            },
            "type": "choropleth"
           }
          ],
          "contour": [
           {
            "colorbar": {
             "outlinewidth": 0,
             "ticks": ""
            },
            "colorscale": [
             [
              0,
              "#0d0887"
             ],
             [
              0.1111111111111111,
              "#46039f"
             ],
             [
              0.2222222222222222,
              "#7201a8"
             ],
             [
              0.3333333333333333,
              "#9c179e"
             ],
             [
              0.4444444444444444,
              "#bd3786"
             ],
             [
              0.5555555555555556,
              "#d8576b"
             ],
             [
              0.6666666666666666,
              "#ed7953"
             ],
             [
              0.7777777777777778,
              "#fb9f3a"
             ],
             [
              0.8888888888888888,
              "#fdca26"
             ],
             [
              1,
              "#f0f921"
             ]
            ],
            "type": "contour"
           }
          ],
          "contourcarpet": [
           {
            "colorbar": {
             "outlinewidth": 0,
             "ticks": ""
            },
            "type": "contourcarpet"
           }
          ],
          "heatmap": [
           {
            "colorbar": {
             "outlinewidth": 0,
             "ticks": ""
            },
            "colorscale": [
             [
              0,
              "#0d0887"
             ],
             [
              0.1111111111111111,
              "#46039f"
             ],
             [
              0.2222222222222222,
              "#7201a8"
             ],
             [
              0.3333333333333333,
              "#9c179e"
             ],
             [
              0.4444444444444444,
              "#bd3786"
             ],
             [
              0.5555555555555556,
              "#d8576b"
             ],
             [
              0.6666666666666666,
              "#ed7953"
             ],
             [
              0.7777777777777778,
              "#fb9f3a"
             ],
             [
              0.8888888888888888,
              "#fdca26"
             ],
             [
              1,
              "#f0f921"
             ]
            ],
            "type": "heatmap"
           }
          ],
          "heatmapgl": [
           {
            "colorbar": {
             "outlinewidth": 0,
             "ticks": ""
            },
            "colorscale": [
             [
              0,
              "#0d0887"
             ],
             [
              0.1111111111111111,
              "#46039f"
             ],
             [
              0.2222222222222222,
              "#7201a8"
             ],
             [
              0.3333333333333333,
              "#9c179e"
             ],
             [
              0.4444444444444444,
              "#bd3786"
             ],
             [
              0.5555555555555556,
              "#d8576b"
             ],
             [
              0.6666666666666666,
              "#ed7953"
             ],
             [
              0.7777777777777778,
              "#fb9f3a"
             ],
             [
              0.8888888888888888,
              "#fdca26"
             ],
             [
              1,
              "#f0f921"
             ]
            ],
            "type": "heatmapgl"
           }
          ],
          "histogram": [
           {
            "marker": {
             "pattern": {
              "fillmode": "overlay",
              "size": 10,
              "solidity": 0.2
             }
            },
            "type": "histogram"
           }
          ],
          "histogram2d": [
           {
            "colorbar": {
             "outlinewidth": 0,
             "ticks": ""
            },
            "colorscale": [
             [
              0,
              "#0d0887"
             ],
             [
              0.1111111111111111,
              "#46039f"
             ],
             [
              0.2222222222222222,
              "#7201a8"
             ],
             [
              0.3333333333333333,
              "#9c179e"
             ],
             [
              0.4444444444444444,
              "#bd3786"
             ],
             [
              0.5555555555555556,
              "#d8576b"
             ],
             [
              0.6666666666666666,
              "#ed7953"
             ],
             [
              0.7777777777777778,
              "#fb9f3a"
             ],
             [
              0.8888888888888888,
              "#fdca26"
             ],
             [
              1,
              "#f0f921"
             ]
            ],
            "type": "histogram2d"
           }
          ],
          "histogram2dcontour": [
           {
            "colorbar": {
             "outlinewidth": 0,
             "ticks": ""
            },
            "colorscale": [
             [
              0,
              "#0d0887"
             ],
             [
              0.1111111111111111,
              "#46039f"
             ],
             [
              0.2222222222222222,
              "#7201a8"
             ],
             [
              0.3333333333333333,
              "#9c179e"
             ],
             [
              0.4444444444444444,
              "#bd3786"
             ],
             [
              0.5555555555555556,
              "#d8576b"
             ],
             [
              0.6666666666666666,
              "#ed7953"
             ],
             [
              0.7777777777777778,
              "#fb9f3a"
             ],
             [
              0.8888888888888888,
              "#fdca26"
             ],
             [
              1,
              "#f0f921"
             ]
            ],
            "type": "histogram2dcontour"
           }
          ],
          "mesh3d": [
           {
            "colorbar": {
             "outlinewidth": 0,
             "ticks": ""
            },
            "type": "mesh3d"
           }
          ],
          "parcoords": [
           {
            "line": {
             "colorbar": {
              "outlinewidth": 0,
              "ticks": ""
             }
            },
            "type": "parcoords"
           }
          ],
          "pie": [
           {
            "automargin": true,
            "type": "pie"
           }
          ],
          "scatter": [
           {
            "fillpattern": {
             "fillmode": "overlay",
             "size": 10,
             "solidity": 0.2
            },
            "type": "scatter"
           }
          ],
          "scatter3d": [
           {
            "line": {
             "colorbar": {
              "outlinewidth": 0,
              "ticks": ""
             }
            },
            "marker": {
             "colorbar": {
              "outlinewidth": 0,
              "ticks": ""
             }
            },
            "type": "scatter3d"
           }
          ],
          "scattercarpet": [
           {
            "marker": {
             "colorbar": {
              "outlinewidth": 0,
              "ticks": ""
             }
            },
            "type": "scattercarpet"
           }
          ],
          "scattergeo": [
           {
            "marker": {
             "colorbar": {
              "outlinewidth": 0,
              "ticks": ""
             }
            },
            "type": "scattergeo"
           }
          ],
          "scattergl": [
           {
            "marker": {
             "colorbar": {
              "outlinewidth": 0,
              "ticks": ""
             }
            },
            "type": "scattergl"
           }
          ],
          "scattermapbox": [
           {
            "marker": {
             "colorbar": {
              "outlinewidth": 0,
              "ticks": ""
             }
            },
            "type": "scattermapbox"
           }
          ],
          "scatterpolar": [
           {
            "marker": {
             "colorbar": {
              "outlinewidth": 0,
              "ticks": ""
             }
            },
            "type": "scatterpolar"
           }
          ],
          "scatterpolargl": [
           {
            "marker": {
             "colorbar": {
              "outlinewidth": 0,
              "ticks": ""
             }
            },
            "type": "scatterpolargl"
           }
          ],
          "scatterternary": [
           {
            "marker": {
             "colorbar": {
              "outlinewidth": 0,
              "ticks": ""
             }
            },
            "type": "scatterternary"
           }
          ],
          "surface": [
           {
            "colorbar": {
             "outlinewidth": 0,
             "ticks": ""
            },
            "colorscale": [
             [
              0,
              "#0d0887"
             ],
             [
              0.1111111111111111,
              "#46039f"
             ],
             [
              0.2222222222222222,
              "#7201a8"
             ],
             [
              0.3333333333333333,
              "#9c179e"
             ],
             [
              0.4444444444444444,
              "#bd3786"
             ],
             [
              0.5555555555555556,
              "#d8576b"
             ],
             [
              0.6666666666666666,
              "#ed7953"
             ],
             [
              0.7777777777777778,
              "#fb9f3a"
             ],
             [
              0.8888888888888888,
              "#fdca26"
             ],
             [
              1,
              "#f0f921"
             ]
            ],
            "type": "surface"
           }
          ],
          "table": [
           {
            "cells": {
             "fill": {
              "color": "#EBF0F8"
             },
             "line": {
              "color": "white"
             }
            },
            "header": {
             "fill": {
              "color": "#C8D4E3"
             },
             "line": {
              "color": "white"
             }
            },
            "type": "table"
           }
          ]
         },
         "layout": {
          "annotationdefaults": {
           "arrowcolor": "#2a3f5f",
           "arrowhead": 0,
           "arrowwidth": 1
          },
          "autotypenumbers": "strict",
          "coloraxis": {
           "colorbar": {
            "outlinewidth": 0,
            "ticks": ""
           }
          },
          "colorscale": {
           "diverging": [
            [
             0,
             "#8e0152"
            ],
            [
             0.1,
             "#c51b7d"
            ],
            [
             0.2,
             "#de77ae"
            ],
            [
             0.3,
             "#f1b6da"
            ],
            [
             0.4,
             "#fde0ef"
            ],
            [
             0.5,
             "#f7f7f7"
            ],
            [
             0.6,
             "#e6f5d0"
            ],
            [
             0.7,
             "#b8e186"
            ],
            [
             0.8,
             "#7fbc41"
            ],
            [
             0.9,
             "#4d9221"
            ],
            [
             1,
             "#276419"
            ]
           ],
           "sequential": [
            [
             0,
             "#0d0887"
            ],
            [
             0.1111111111111111,
             "#46039f"
            ],
            [
             0.2222222222222222,
             "#7201a8"
            ],
            [
             0.3333333333333333,
             "#9c179e"
            ],
            [
             0.4444444444444444,
             "#bd3786"
            ],
            [
             0.5555555555555556,
             "#d8576b"
            ],
            [
             0.6666666666666666,
             "#ed7953"
            ],
            [
             0.7777777777777778,
             "#fb9f3a"
            ],
            [
             0.8888888888888888,
             "#fdca26"
            ],
            [
             1,
             "#f0f921"
            ]
           ],
           "sequentialminus": [
            [
             0,
             "#0d0887"
            ],
            [
             0.1111111111111111,
             "#46039f"
            ],
            [
             0.2222222222222222,
             "#7201a8"
            ],
            [
             0.3333333333333333,
             "#9c179e"
            ],
            [
             0.4444444444444444,
             "#bd3786"
            ],
            [
             0.5555555555555556,
             "#d8576b"
            ],
            [
             0.6666666666666666,
             "#ed7953"
            ],
            [
             0.7777777777777778,
             "#fb9f3a"
            ],
            [
             0.8888888888888888,
             "#fdca26"
            ],
            [
             1,
             "#f0f921"
            ]
           ]
          },
          "colorway": [
           "#636efa",
           "#EF553B",
           "#00cc96",
           "#ab63fa",
           "#FFA15A",
           "#19d3f3",
           "#FF6692",
           "#B6E880",
           "#FF97FF",
           "#FECB52"
          ],
          "font": {
           "color": "#2a3f5f"
          },
          "geo": {
           "bgcolor": "white",
           "lakecolor": "white",
           "landcolor": "#E5ECF6",
           "showlakes": true,
           "showland": true,
           "subunitcolor": "white"
          },
          "hoverlabel": {
           "align": "left"
          },
          "hovermode": "closest",
          "mapbox": {
           "style": "light"
          },
          "paper_bgcolor": "white",
          "plot_bgcolor": "#E5ECF6",
          "polar": {
           "angularaxis": {
            "gridcolor": "white",
            "linecolor": "white",
            "ticks": ""
           },
           "bgcolor": "#E5ECF6",
           "radialaxis": {
            "gridcolor": "white",
            "linecolor": "white",
            "ticks": ""
           }
          },
          "scene": {
           "xaxis": {
            "backgroundcolor": "#E5ECF6",
            "gridcolor": "white",
            "gridwidth": 2,
            "linecolor": "white",
            "showbackground": true,
            "ticks": "",
            "zerolinecolor": "white"
           },
           "yaxis": {
            "backgroundcolor": "#E5ECF6",
            "gridcolor": "white",
            "gridwidth": 2,
            "linecolor": "white",
            "showbackground": true,
            "ticks": "",
            "zerolinecolor": "white"
           },
           "zaxis": {
            "backgroundcolor": "#E5ECF6",
            "gridcolor": "white",
            "gridwidth": 2,
            "linecolor": "white",
            "showbackground": true,
            "ticks": "",
            "zerolinecolor": "white"
           }
          },
          "shapedefaults": {
           "line": {
            "color": "#2a3f5f"
           }
          },
          "ternary": {
           "aaxis": {
            "gridcolor": "white",
            "linecolor": "white",
            "ticks": ""
           },
           "baxis": {
            "gridcolor": "white",
            "linecolor": "white",
            "ticks": ""
           },
           "bgcolor": "#E5ECF6",
           "caxis": {
            "gridcolor": "white",
            "linecolor": "white",
            "ticks": ""
           }
          },
          "title": {
           "x": 0.05
          },
          "xaxis": {
           "automargin": true,
           "gridcolor": "white",
           "linecolor": "white",
           "ticks": "",
           "title": {
            "standoff": 15
           },
           "zerolinecolor": "white",
           "zerolinewidth": 2
          },
          "yaxis": {
           "automargin": true,
           "gridcolor": "white",
           "linecolor": "white",
           "ticks": "",
           "title": {
            "standoff": 15
           },
           "zerolinecolor": "white",
           "zerolinewidth": 2
          }
         }
        },
        "title": {
         "text": "Performance Metrics Comparison by Model"
        },
        "xaxis": {
         "anchor": "y",
         "domain": [
          0,
          1
         ],
         "title": {
          "text": "Model"
         }
        },
        "yaxis": {
         "anchor": "x",
         "domain": [
          0,
          1
         ],
         "title": {
          "text": "Score"
         }
        }
       }
      }
     },
     "metadata": {},
     "output_type": "display_data"
    }
   ],
   "source": [
    "import plotly.express as px\n",
    "\n",
    "# Melting the DataFrame to have a tidy format for visualization\n",
    "df_melted = df_sorted.melt(id_vars='Model Name', value_vars=['Accuracy on train data', 'Accuracy on test data',\n",
    "                                                             'Precision on train data', 'Precision on test data',\n",
    "                                                             'Recall on train data', 'Recall on test data',\n",
    "                                                             'F1-score on train data', 'F1-score on test data'],\n",
    "                           var_name='Metric', value_name='Score')\n",
    "\n",
    "# Creating a grouped bar chart\n",
    "fig = px.bar(df_melted, x='Model Name', y='Score', color='Metric',\n",
    "             barmode='group', title='Performance Metrics Comparison by Model',\n",
    "             labels={'Score': 'Score', 'Model Name': 'Model', 'Metric': 'Metric'})\n",
    "\n",
    "fig.show()\n"
   ]
  },
  {
   "cell_type": "code",
   "execution_count": 19,
   "metadata": {},
   "outputs": [
    {
     "data": {
      "image/png": "[encoded data removed]",
      "text/plain": [
       "<Figure size 1200x800 with 1 Axes>"
      ]
     },
     "metadata": {},
     "output_type": "display_data"
    },
    {
     "data": {
      "image/png": "[encoded data removed]",
      "text/plain": [
       "<Figure size 800x600 with 2 Axes>"
      ]
     },
     "metadata": {},
     "output_type": "display_data"
    }
   ],
   "source": [
    "from sklearn.model_selection import train_test_split, GridSearchCV\n",
    "rf_model = RandomForestClassifier(n_estimators=10, random_state=42)\n",
    "rf_model.fit(X_train_selected, y_train)\n",
    "\n",
    "importances = rf_model.feature_importances_\n",
    "indices = np.argsort(importances)[::-1]\n",
    "#plot\n",
    "plt.figure(figsize=(12, 8))\n",
    "plt.title(\"Feature Importances\")\n",
    "plt.bar(range(X_train_selected.shape[1]), importances[indices],\n",
    "        color=\"r\", align=\"center\")\n",
    "plt.xticks(range(X_train_selected.shape[1]), X.columns[indices], rotation=90)\n",
    "plt.xlim([-1, X_train_selected.shape[1]])\n",
    "plt.show()\n",
    "\n",
    "y_pred = rf_model.predict(X_test_selected)\n",
    "conf_matrix = confusion_matrix(y_test, y_pred)\n",
    "plt.figure(figsize=(8, 6))\n",
    "sns.heatmap(conf_matrix, annot=True, fmt=\"d\", cmap=\"Blues\")\n",
    "plt.title(\"Confusion Matrix\")\n",
    "plt.xlabel(\"Predicted Label\")\n",
    "plt.ylabel(\"True Label\")\n",
    "plt.show()"
   ]
  },
  {
   "cell_type": "code",
   "execution_count": 27,
   "metadata": {},
   "outputs": [
    {
     "name": "stdout",
     "output_type": "stream",
     "text": [
      "Fitting 5 folds for each of 81 candidates, totalling 405 fits\n"
     ]
    },
    {
     "ename": "TerminatedWorkerError",
     "evalue": "A worker process managed by the executor was unexpectedly terminated. This could be caused by a segmentation fault while calling the function or by an excessive memory usage causing the Operating System to kill the worker.\n",
     "output_type": "error",
     "traceback": [
      "\u001b[1;31m---------------------------------------------------------------------------\u001b[0m",
      "\u001b[1;31mTerminatedWorkerError\u001b[0m                     Traceback (most recent call last)",
      "\u001b[1;32m~\\AppData\\Local\\Temp\\ipykernel_12852\\1898264480.py\u001b[0m in \u001b[0;36m<module>\u001b[1;34m\u001b[0m\n\u001b[0;32m     29\u001b[0m     \u001b[0mn_jobs\u001b[0m\u001b[1;33m=\u001b[0m\u001b[1;33m-\u001b[0m\u001b[1;36m1\u001b[0m\u001b[1;33m\u001b[0m\u001b[1;33m\u001b[0m\u001b[0m\n\u001b[0;32m     30\u001b[0m )\n\u001b[1;32m---> 31\u001b[1;33m \u001b[0mrf_grid_search\u001b[0m\u001b[1;33m.\u001b[0m\u001b[0mfit\u001b[0m\u001b[1;33m(\u001b[0m\u001b[0mX_train_selected\u001b[0m\u001b[1;33m,\u001b[0m \u001b[0my_train\u001b[0m\u001b[1;33m)\u001b[0m\u001b[1;33m\u001b[0m\u001b[1;33m\u001b[0m\u001b[0m\n\u001b[0m\u001b[0;32m     32\u001b[0m \u001b[1;33m\u001b[0m\u001b[0m\n\u001b[0;32m     33\u001b[0m \u001b[1;31m# Perform grid search for AdaBoost\u001b[0m\u001b[1;33m\u001b[0m\u001b[1;33m\u001b[0m\u001b[1;33m\u001b[0m\u001b[0m\n",
      "\u001b[1;32md:\\Python64\\lib\\site-packages\\sklearn\\model_selection\\_search.py\u001b[0m in \u001b[0;36mfit\u001b[1;34m(self, X, y, groups, **fit_params)\u001b[0m\n\u001b[0;32m    889\u001b[0m                 \u001b[1;32mreturn\u001b[0m \u001b[0mresults\u001b[0m\u001b[1;33m\u001b[0m\u001b[1;33m\u001b[0m\u001b[0m\n\u001b[0;32m    890\u001b[0m \u001b[1;33m\u001b[0m\u001b[0m\n\u001b[1;32m--> 891\u001b[1;33m             \u001b[0mself\u001b[0m\u001b[1;33m.\u001b[0m\u001b[0m_run_search\u001b[0m\u001b[1;33m(\u001b[0m\u001b[0mevaluate_candidates\u001b[0m\u001b[1;33m)\u001b[0m\u001b[1;33m\u001b[0m\u001b[1;33m\u001b[0m\u001b[0m\n\u001b[0m\u001b[0;32m    892\u001b[0m \u001b[1;33m\u001b[0m\u001b[0m\n\u001b[0;32m    893\u001b[0m             \u001b[1;31m# multimetric is determined here because in the case of a callable\u001b[0m\u001b[1;33m\u001b[0m\u001b[1;33m\u001b[0m\u001b[1;33m\u001b[0m\u001b[0m\n",
      "\u001b[1;32md:\\Python64\\lib\\site-packages\\sklearn\\model_selection\\_search.py\u001b[0m in \u001b[0;36m_run_search\u001b[1;34m(self, evaluate_candidates)\u001b[0m\n\u001b[0;32m   1390\u001b[0m     \u001b[1;32mdef\u001b[0m \u001b[0m_run_search\u001b[0m\u001b[1;33m(\u001b[0m\u001b[0mself\u001b[0m\u001b[1;33m,\u001b[0m \u001b[0mevaluate_candidates\u001b[0m\u001b[1;33m)\u001b[0m\u001b[1;33m:\u001b[0m\u001b[1;33m\u001b[0m\u001b[1;33m\u001b[0m\u001b[0m\n\u001b[0;32m   1391\u001b[0m         \u001b[1;34m\"\"\"Search all candidates in param_grid\"\"\"\u001b[0m\u001b[1;33m\u001b[0m\u001b[1;33m\u001b[0m\u001b[0m\n\u001b[1;32m-> 1392\u001b[1;33m         \u001b[0mevaluate_candidates\u001b[0m\u001b[1;33m(\u001b[0m\u001b[0mParameterGrid\u001b[0m\u001b[1;33m(\u001b[0m\u001b[0mself\u001b[0m\u001b[1;33m.\u001b[0m\u001b[0mparam_grid\u001b[0m\u001b[1;33m)\u001b[0m\u001b[1;33m)\u001b[0m\u001b[1;33m\u001b[0m\u001b[1;33m\u001b[0m\u001b[0m\n\u001b[0m\u001b[0;32m   1393\u001b[0m \u001b[1;33m\u001b[0m\u001b[0m\n\u001b[0;32m   1394\u001b[0m \u001b[1;33m\u001b[0m\u001b[0m\n",
      "\u001b[1;32md:\\Python64\\lib\\site-packages\\sklearn\\model_selection\\_search.py\u001b[0m in \u001b[0;36mevaluate_candidates\u001b[1;34m(candidate_params, cv, more_results)\u001b[0m\n\u001b[0;32m    849\u001b[0m                     )\n\u001b[0;32m    850\u001b[0m                     for (cand_idx, parameters), (split_idx, (train, test)) in product(\n\u001b[1;32m--> 851\u001b[1;33m                         \u001b[0menumerate\u001b[0m\u001b[1;33m(\u001b[0m\u001b[0mcandidate_params\u001b[0m\u001b[1;33m)\u001b[0m\u001b[1;33m,\u001b[0m \u001b[0menumerate\u001b[0m\u001b[1;33m(\u001b[0m\u001b[0mcv\u001b[0m\u001b[1;33m.\u001b[0m\u001b[0msplit\u001b[0m\u001b[1;33m(\u001b[0m\u001b[0mX\u001b[0m\u001b[1;33m,\u001b[0m \u001b[0my\u001b[0m\u001b[1;33m,\u001b[0m \u001b[0mgroups\u001b[0m\u001b[1;33m)\u001b[0m\u001b[1;33m)\u001b[0m\u001b[1;33m\u001b[0m\u001b[1;33m\u001b[0m\u001b[0m\n\u001b[0m\u001b[0;32m    852\u001b[0m                     )\n\u001b[0;32m    853\u001b[0m                 )\n",
      "\u001b[1;32md:\\Python64\\lib\\site-packages\\joblib\\parallel.py\u001b[0m in \u001b[0;36m__call__\u001b[1;34m(self, iterable)\u001b[0m\n\u001b[0;32m   1950\u001b[0m         \u001b[0mnext\u001b[0m\u001b[1;33m(\u001b[0m\u001b[0moutput\u001b[0m\u001b[1;33m)\u001b[0m\u001b[1;33m\u001b[0m\u001b[1;33m\u001b[0m\u001b[0m\n\u001b[0;32m   1951\u001b[0m \u001b[1;33m\u001b[0m\u001b[0m\n\u001b[1;32m-> 1952\u001b[1;33m         \u001b[1;32mreturn\u001b[0m \u001b[0moutput\u001b[0m \u001b[1;32mif\u001b[0m \u001b[0mself\u001b[0m\u001b[1;33m.\u001b[0m\u001b[0mreturn_generator\u001b[0m \u001b[1;32melse\u001b[0m \u001b[0mlist\u001b[0m\u001b[1;33m(\u001b[0m\u001b[0moutput\u001b[0m\u001b[1;33m)\u001b[0m\u001b[1;33m\u001b[0m\u001b[1;33m\u001b[0m\u001b[0m\n\u001b[0m\u001b[0;32m   1953\u001b[0m \u001b[1;33m\u001b[0m\u001b[0m\n\u001b[0;32m   1954\u001b[0m     \u001b[1;32mdef\u001b[0m \u001b[0m__repr__\u001b[0m\u001b[1;33m(\u001b[0m\u001b[0mself\u001b[0m\u001b[1;33m)\u001b[0m\u001b[1;33m:\u001b[0m\u001b[1;33m\u001b[0m\u001b[1;33m\u001b[0m\u001b[0m\n",
      "\u001b[1;32md:\\Python64\\lib\\site-packages\\joblib\\parallel.py\u001b[0m in \u001b[0;36m_get_outputs\u001b[1;34m(self, iterator, pre_dispatch)\u001b[0m\n\u001b[0;32m   1593\u001b[0m \u001b[1;33m\u001b[0m\u001b[0m\n\u001b[0;32m   1594\u001b[0m             \u001b[1;32mwith\u001b[0m \u001b[0mself\u001b[0m\u001b[1;33m.\u001b[0m\u001b[0m_backend\u001b[0m\u001b[1;33m.\u001b[0m\u001b[0mretrieval_context\u001b[0m\u001b[1;33m(\u001b[0m\u001b[1;33m)\u001b[0m\u001b[1;33m:\u001b[0m\u001b[1;33m\u001b[0m\u001b[1;33m\u001b[0m\u001b[0m\n\u001b[1;32m-> 1595\u001b[1;33m                 \u001b[1;32myield\u001b[0m \u001b[1;32mfrom\u001b[0m \u001b[0mself\u001b[0m\u001b[1;33m.\u001b[0m\u001b[0m_retrieve\u001b[0m\u001b[1;33m(\u001b[0m\u001b[1;33m)\u001b[0m\u001b[1;33m\u001b[0m\u001b[1;33m\u001b[0m\u001b[0m\n\u001b[0m\u001b[0;32m   1596\u001b[0m \u001b[1;33m\u001b[0m\u001b[0m\n\u001b[0;32m   1597\u001b[0m         \u001b[1;32mexcept\u001b[0m \u001b[0mGeneratorExit\u001b[0m\u001b[1;33m:\u001b[0m\u001b[1;33m\u001b[0m\u001b[1;33m\u001b[0m\u001b[0m\n",
      "\u001b[1;32md:\\Python64\\lib\\site-packages\\joblib\\parallel.py\u001b[0m in \u001b[0;36m_retrieve\u001b[1;34m(self)\u001b[0m\n\u001b[0;32m   1697\u001b[0m             \u001b[1;31m# worker traceback.\u001b[0m\u001b[1;33m\u001b[0m\u001b[1;33m\u001b[0m\u001b[1;33m\u001b[0m\u001b[0m\n\u001b[0;32m   1698\u001b[0m             \u001b[1;32mif\u001b[0m \u001b[0mself\u001b[0m\u001b[1;33m.\u001b[0m\u001b[0m_aborting\u001b[0m\u001b[1;33m:\u001b[0m\u001b[1;33m\u001b[0m\u001b[1;33m\u001b[0m\u001b[0m\n\u001b[1;32m-> 1699\u001b[1;33m                 \u001b[0mself\u001b[0m\u001b[1;33m.\u001b[0m\u001b[0m_raise_error_fast\u001b[0m\u001b[1;33m(\u001b[0m\u001b[1;33m)\u001b[0m\u001b[1;33m\u001b[0m\u001b[1;33m\u001b[0m\u001b[0m\n\u001b[0m\u001b[0;32m   1700\u001b[0m                 \u001b[1;32mbreak\u001b[0m\u001b[1;33m\u001b[0m\u001b[1;33m\u001b[0m\u001b[0m\n\u001b[0;32m   1701\u001b[0m \u001b[1;33m\u001b[0m\u001b[0m\n",
      "\u001b[1;32md:\\Python64\\lib\\site-packages\\joblib\\parallel.py\u001b[0m in \u001b[0;36m_raise_error_fast\u001b[1;34m(self)\u001b[0m\n\u001b[0;32m   1732\u001b[0m         \u001b[1;31m# called directly or if the generator is gc'ed.\u001b[0m\u001b[1;33m\u001b[0m\u001b[1;33m\u001b[0m\u001b[1;33m\u001b[0m\u001b[0m\n\u001b[0;32m   1733\u001b[0m         \u001b[1;32mif\u001b[0m \u001b[0merror_job\u001b[0m \u001b[1;32mis\u001b[0m \u001b[1;32mnot\u001b[0m \u001b[1;32mNone\u001b[0m\u001b[1;33m:\u001b[0m\u001b[1;33m\u001b[0m\u001b[1;33m\u001b[0m\u001b[0m\n\u001b[1;32m-> 1734\u001b[1;33m             \u001b[0merror_job\u001b[0m\u001b[1;33m.\u001b[0m\u001b[0mget_result\u001b[0m\u001b[1;33m(\u001b[0m\u001b[0mself\u001b[0m\u001b[1;33m.\u001b[0m\u001b[0mtimeout\u001b[0m\u001b[1;33m)\u001b[0m\u001b[1;33m\u001b[0m\u001b[1;33m\u001b[0m\u001b[0m\n\u001b[0m\u001b[0;32m   1735\u001b[0m \u001b[1;33m\u001b[0m\u001b[0m\n\u001b[0;32m   1736\u001b[0m     \u001b[1;32mdef\u001b[0m \u001b[0m_warn_exit_early\u001b[0m\u001b[1;33m(\u001b[0m\u001b[0mself\u001b[0m\u001b[1;33m)\u001b[0m\u001b[1;33m:\u001b[0m\u001b[1;33m\u001b[0m\u001b[1;33m\u001b[0m\u001b[0m\n",
      "\u001b[1;32md:\\Python64\\lib\\site-packages\\joblib\\parallel.py\u001b[0m in \u001b[0;36mget_result\u001b[1;34m(self, timeout)\u001b[0m\n\u001b[0;32m    734\u001b[0m             \u001b[1;31m# callback thread, and is stored internally. It's just waiting to\u001b[0m\u001b[1;33m\u001b[0m\u001b[1;33m\u001b[0m\u001b[1;33m\u001b[0m\u001b[0m\n\u001b[0;32m    735\u001b[0m             \u001b[1;31m# be returned.\u001b[0m\u001b[1;33m\u001b[0m\u001b[1;33m\u001b[0m\u001b[1;33m\u001b[0m\u001b[0m\n\u001b[1;32m--> 736\u001b[1;33m             \u001b[1;32mreturn\u001b[0m \u001b[0mself\u001b[0m\u001b[1;33m.\u001b[0m\u001b[0m_return_or_raise\u001b[0m\u001b[1;33m(\u001b[0m\u001b[1;33m)\u001b[0m\u001b[1;33m\u001b[0m\u001b[1;33m\u001b[0m\u001b[0m\n\u001b[0m\u001b[0;32m    737\u001b[0m \u001b[1;33m\u001b[0m\u001b[0m\n\u001b[0;32m    738\u001b[0m         \u001b[1;31m# For other backends, the main thread needs to run the retrieval step.\u001b[0m\u001b[1;33m\u001b[0m\u001b[1;33m\u001b[0m\u001b[1;33m\u001b[0m\u001b[0m\n",
      "\u001b[1;32md:\\Python64\\lib\\site-packages\\joblib\\parallel.py\u001b[0m in \u001b[0;36m_return_or_raise\u001b[1;34m(self)\u001b[0m\n\u001b[0;32m    752\u001b[0m         \u001b[1;32mtry\u001b[0m\u001b[1;33m:\u001b[0m\u001b[1;33m\u001b[0m\u001b[1;33m\u001b[0m\u001b[0m\n\u001b[0;32m    753\u001b[0m             \u001b[1;32mif\u001b[0m \u001b[0mself\u001b[0m\u001b[1;33m.\u001b[0m\u001b[0mstatus\u001b[0m \u001b[1;33m==\u001b[0m \u001b[0mTASK_ERROR\u001b[0m\u001b[1;33m:\u001b[0m\u001b[1;33m\u001b[0m\u001b[1;33m\u001b[0m\u001b[0m\n\u001b[1;32m--> 754\u001b[1;33m                 \u001b[1;32mraise\u001b[0m \u001b[0mself\u001b[0m\u001b[1;33m.\u001b[0m\u001b[0m_result\u001b[0m\u001b[1;33m\u001b[0m\u001b[1;33m\u001b[0m\u001b[0m\n\u001b[0m\u001b[0;32m    755\u001b[0m             \u001b[1;32mreturn\u001b[0m \u001b[0mself\u001b[0m\u001b[1;33m.\u001b[0m\u001b[0m_result\u001b[0m\u001b[1;33m\u001b[0m\u001b[1;33m\u001b[0m\u001b[0m\n\u001b[0;32m    756\u001b[0m         \u001b[1;32mfinally\u001b[0m\u001b[1;33m:\u001b[0m\u001b[1;33m\u001b[0m\u001b[1;33m\u001b[0m\u001b[0m\n",
      "\u001b[1;31mTerminatedWorkerError\u001b[0m: A worker process managed by the executor was unexpectedly terminated. This could be caused by a segmentation fault while calling the function or by an excessive memory usage causing the Operating System to kill the worker.\n"
     ]
    }
   ],
   "source": [
    "from sklearn.model_selection import GridSearchCV\n",
    "from sklearn.ensemble import RandomForestClassifier, AdaBoostClassifier\n",
    "from sklearn.metrics import accuracy_score, classification_report, confusion_matrix\n",
    "\n",
    "# Define the parameter grid for Random Forest\n",
    "rf_param_grid = {\n",
    "    'n_estimators': [50, 100, 150],  # Number of trees in the forest\n",
    "    'max_depth': [None, 10, 20],      # Maximum depth of the trees\n",
    "    'min_samples_split': [2, 5, 10],  # Minimum number of samples required to split a node\n",
    "    'min_samples_leaf': [1, 2, 4]     # Minimum number of samples required at each leaf node\n",
    "}\n",
    "\n",
    "# Define the parameter grid for AdaBoost\n",
    "adb_param_grid = {\n",
    "    'n_estimators': [50, 100, 150],  # Number of weak learners\n",
    "    'learning_rate': [0.01, 0.1, 1.0] # Learning rate\n",
    "}\n",
    "\n",
    "# Initialize models with default parameters\n",
    "rf_model = RandomForestClassifier()\n",
    "adb_model = AdaBoostClassifier()\n",
    "\n",
    "# Perform grid search for Random Forest\n",
    "rf_grid_search = GridSearchCV(\n",
    "    estimator=rf_model, \n",
    "    param_grid=rf_param_grid, \n",
    "    scoring='roc_auc', \n",
    "    verbose=2,\n",
    "    n_jobs=-1\n",
    ")\n",
    "rf_grid_search.fit(X_train_selected, y_train)\n",
    "\n",
    "# Perform grid search for AdaBoost\n",
    "adb_grid_search = GridSearchCV(\n",
    "    estimator=adb_model, \n",
    "    param_grid=adb_param_grid, \n",
    "    scoring='roc_auc', \n",
    "    verbose=2,\n",
    "    n_jobs=-1\n",
    ")\n",
    "adb_grid_search.fit(X_train_selected, y_train)\n",
    "\n",
    "# Get best parameters\n",
    "best_rf_params = rf_grid_search.best_params_\n",
    "best_adb_params = adb_grid_search.best_params_\n",
    "\n",
    "# Set best parameters to models\n",
    "rf_model.set_params(**best_rf_params)\n",
    "adb_model.set_params(**best_adb_params)\n",
    "\n",
    "# Train ensemble models\n",
    "ensemble_models = [\n",
    "    (\"Random Forest\", rf_model),\n",
    "    (\"AdaBoost\", adb_model)\n",
    "]\n",
    "\n",
    "for name, model in ensemble_models:\n",
    "    model.fit(X_train_selected, y_train)\n",
    "    y_pred = model.predict(X_test_selected)\n",
    "    accuracy = accuracy_score(y_test, y_pred)\n",
    "    print(f\"{name} Accuracy: {accuracy}\")\n",
    "    print(f\"{classification_report(y_test, y_pred)}\")\n",
    "    print(f\"Confusion Matrix:\\n{confusion_matrix(y_test, y_pred)}\\n\")\n"
   ]
  },
  {
   "cell_type": "markdown",
   "metadata": {},
   "source": [
    "# DEEP NEURAL NETWORK"
   ]
  },
  {
   "cell_type": "code",
   "execution_count": 32,
   "metadata": {},
   "outputs": [
    {
     "name": "stdout",
     "output_type": "stream",
     "text": [
      "Epoch 1/10\n",
      "127/127 [==============================] - 2s 4ms/step - loss: 0.6919 - accuracy: 0.6931\n",
      "Epoch 2/10\n",
      "127/127 [==============================] - 1s 4ms/step - loss: 0.5638 - accuracy: 0.7423\n",
      "Epoch 3/10\n",
      "127/127 [==============================] - 0s 4ms/step - loss: 0.5249 - accuracy: 0.7774\n",
      "Epoch 4/10\n",
      "127/127 [==============================] - 1s 5ms/step - loss: 0.5165 - accuracy: 0.7707\n",
      "Epoch 5/10\n",
      "127/127 [==============================] - 1s 4ms/step - loss: 0.4948 - accuracy: 0.7761\n",
      "Epoch 6/10\n",
      "127/127 [==============================] - 1s 4ms/step - loss: 0.4817 - accuracy: 0.7937\n",
      "Epoch 7/10\n",
      "127/127 [==============================] - 1s 4ms/step - loss: 0.5162 - accuracy: 0.7801\n",
      "Epoch 8/10\n",
      "127/127 [==============================] - 1s 4ms/step - loss: 0.4593 - accuracy: 0.7991\n",
      "Epoch 9/10\n",
      "127/127 [==============================] - 1s 4ms/step - loss: 0.4771 - accuracy: 0.7863\n",
      "Epoch 10/10\n",
      "127/127 [==============================] - 1s 4ms/step - loss: 0.4541 - accuracy: 0.8026\n",
      "55/55 [==============================] - 0s 3ms/step - loss: 0.4304 - accuracy: 0.8207\n",
      "Test Loss: 0.4304\n",
      "Test Accuracy: 0.8207\n"
     ]
    }
   ],
   "source": [
    "\n",
    "import tensorflow as tf\n",
    "model = tf.keras.models.Sequential()\n",
    "model.add(tf.keras.layers.Dense(units=128, activation='relu', input_dim=X_train_selected.shape[1]))\n",
    "model.add(tf.keras.layers.Dense(units=512, activation='relu'))\n",
    "model.add(tf.keras.layers.Dense(units=1, activation='sigmoid'))\n",
    "\n",
    "model.compile(optimizer='adam', loss='binary_crossentropy', metrics=['accuracy'])\n",
    "\n",
    "model.fit(X_train_selected, y_train, batch_size=32, epochs=10)\n",
    "\n",
    "loss, accuracy = model.evaluate(X_test_selected, y_test)\n",
    "print(f'Test Loss: {loss:.4f}')\n",
    "print(f'Test Accuracy: {accuracy:.4f}')\n"
   ]
  },
  {
   "cell_type": "code",
   "execution_count": null,
   "metadata": {},
   "outputs": [],
   "source": []
  }
 ],
 "metadata": {
  "kernelspec": {
   "display_name": "Python 3 (ipykernel)",
   "language": "python",
   "name": "python3"
  },
  "language_info": {
   "codemirror_mode": {
    "name": "ipython",
    "version": 3
   },
   "file_extension": ".py",
   "mimetype": "text/x-python",
   "name": "python",
   "nbconvert_exporter": "python",
   "pygments_lexer": "ipython3",
   "version": "3.7.5"
  }
 },
 "nbformat": 4,
 "nbformat_minor": 2
}
